{
  "cells": [
    {
      "cell_type": "markdown",
      "metadata": {
        "id": "view-in-github",
        "colab_type": "text"
      },
      "source": [
        "<a href=\"https://colab.research.google.com/github/Snehansusekhar/python1/blob/main/Welcome_To_Colaboratory.ipynb\" target=\"_parent\"><img src=\"https://colab.research.google.com/assets/colab-badge.svg\" alt=\"Open In Colab\"/></a>"
      ]
    },
    {
      "cell_type": "code",
      "source": [
        "a=\"pi'con\""
      ],
      "metadata": {
        "id": "rRwKOE7R9BXW"
      },
      "execution_count": 13,
      "outputs": []
    },
    {
      "cell_type": "code",
      "source": [
        "b='pic\"on'"
      ],
      "metadata": {
        "id": "TUUuVot09EmT"
      },
      "execution_count": 15,
      "outputs": []
    },
    {
      "cell_type": "code",
      "source": [
        "a"
      ],
      "metadata": {
        "id": "NcOFsfh-9Gkw",
        "outputId": "d8e6b21f-475f-4b59-dccf-f874e580a43f",
        "colab": {
          "base_uri": "https://localhost:8080/",
          "height": 35
        }
      },
      "execution_count": 14,
      "outputs": [
        {
          "output_type": "execute_result",
          "data": {
            "text/plain": [
              "\"pi'con\""
            ],
            "application/vnd.google.colaboratory.intrinsic+json": {
              "type": "string"
            }
          },
          "metadata": {},
          "execution_count": 14
        }
      ]
    },
    {
      "cell_type": "code",
      "source": [
        "b"
      ],
      "metadata": {
        "id": "OXC6fc6I9Hn-",
        "outputId": "207d5cb9-b0bd-4827-f4f0-582218e1c803",
        "colab": {
          "base_uri": "https://localhost:8080/",
          "height": 35
        }
      },
      "execution_count": 16,
      "outputs": [
        {
          "output_type": "execute_result",
          "data": {
            "text/plain": [
              "'pic\"on'"
            ],
            "application/vnd.google.colaboratory.intrinsic+json": {
              "type": "string"
            }
          },
          "metadata": {},
          "execution_count": 16
        }
      ]
    },
    {
      "cell_type": "code",
      "source": [
        "c='this is my first class of full stack data science that\"s why i joined this class'"
      ],
      "metadata": {
        "id": "uNDWxSkc9KkX"
      },
      "execution_count": 11,
      "outputs": []
    },
    {
      "cell_type": "code",
      "source": [
        "c"
      ],
      "metadata": {
        "id": "FIm2b-ny9b5m",
        "outputId": "ac323bdd-01ed-4a1f-aa06-9d9ac4a19879",
        "colab": {
          "base_uri": "https://localhost:8080/",
          "height": 35
        }
      },
      "execution_count": 12,
      "outputs": [
        {
          "output_type": "execute_result",
          "data": {
            "text/plain": [
              "'this is my first class of full stack data science that\"s why i joined this class'"
            ],
            "application/vnd.google.colaboratory.intrinsic+json": {
              "type": "string"
            }
          },
          "metadata": {},
          "execution_count": 12
        }
      ]
    },
    {
      "cell_type": "code",
      "source": [
        "s=\"this is a full stack class\""
      ],
      "metadata": {
        "id": "MJ-E_apb9m8N"
      },
      "execution_count": 24,
      "outputs": []
    },
    {
      "cell_type": "code",
      "source": [
        "s[-1]"
      ],
      "metadata": {
        "id": "y-NW-JFY-O3N",
        "outputId": "fe150a1c-395b-4767-af7e-2e1ea2a71fd9",
        "colab": {
          "base_uri": "https://localhost:8080/",
          "height": 35
        }
      },
      "execution_count": 25,
      "outputs": [
        {
          "output_type": "execute_result",
          "data": {
            "text/plain": [
              "'s'"
            ],
            "application/vnd.google.colaboratory.intrinsic+json": {
              "type": "string"
            }
          },
          "metadata": {},
          "execution_count": 25
        }
      ]
    },
    {
      "cell_type": "code",
      "source": [
        "s[0]"
      ],
      "metadata": {
        "id": "WQlvnQVG-QKt",
        "outputId": "a1807a9a-95bc-475c-896c-32c946680c9c",
        "colab": {
          "base_uri": "https://localhost:8080/",
          "height": 35
        }
      },
      "execution_count": 20,
      "outputs": [
        {
          "output_type": "execute_result",
          "data": {
            "text/plain": [
              "'t'"
            ],
            "application/vnd.google.colaboratory.intrinsic+json": {
              "type": "string"
            }
          },
          "metadata": {},
          "execution_count": 20
        }
      ]
    },
    {
      "cell_type": "code",
      "source": [
        "len(s)"
      ],
      "metadata": {
        "id": "i1fCapJN-pn0",
        "outputId": "a1a5e812-e46d-4a5d-b958-8b4fbca2e502",
        "colab": {
          "base_uri": "https://localhost:8080/"
        }
      },
      "execution_count": 27,
      "outputs": [
        {
          "output_type": "execute_result",
          "data": {
            "text/plain": [
              "26"
            ]
          },
          "metadata": {},
          "execution_count": 27
        }
      ]
    },
    {
      "cell_type": "code",
      "source": [
        "s[0:26]"
      ],
      "metadata": {
        "id": "zTH-ZhGq-12M",
        "outputId": "822cd462-f67f-4db5-f056-2eec3ae29aa9",
        "colab": {
          "base_uri": "https://localhost:8080/",
          "height": 35
        }
      },
      "execution_count": 31,
      "outputs": [
        {
          "output_type": "execute_result",
          "data": {
            "text/plain": [
              "'this is a full stack class'"
            ],
            "application/vnd.google.colaboratory.intrinsic+json": {
              "type": "string"
            }
          },
          "metadata": {},
          "execution_count": 31
        }
      ]
    },
    {
      "cell_type": "code",
      "source": [
        "s[2:5]"
      ],
      "metadata": {
        "id": "3huVdNZD-5rM",
        "outputId": "8492479c-f2da-4db4-f632-02da7d066ab7",
        "colab": {
          "base_uri": "https://localhost:8080/",
          "height": 35
        }
      },
      "execution_count": 32,
      "outputs": [
        {
          "output_type": "execute_result",
          "data": {
            "text/plain": [
              "'is '"
            ],
            "application/vnd.google.colaboratory.intrinsic+json": {
              "type": "string"
            }
          },
          "metadata": {},
          "execution_count": 32
        }
      ]
    },
    {
      "cell_type": "code",
      "source": [
        "s[4:10:1]"
      ],
      "metadata": {
        "id": "hcoB3laxEpAK",
        "outputId": "5d8341ad-6b24-4bac-cc91-f54fbfe57c31",
        "colab": {
          "base_uri": "https://localhost:8080/",
          "height": 35
        }
      },
      "execution_count": 33,
      "outputs": [
        {
          "output_type": "execute_result",
          "data": {
            "text/plain": [
              "' is a '"
            ],
            "application/vnd.google.colaboratory.intrinsic+json": {
              "type": "string"
            }
          },
          "metadata": {},
          "execution_count": 33
        }
      ]
    },
    {
      "cell_type": "code",
      "source": [
        "s[-1:-10:-1]"
      ],
      "metadata": {
        "id": "xWwbdr6lEuFY",
        "outputId": "0d789462-6a00-4701-85e3-80d2cea2447f",
        "colab": {
          "base_uri": "https://localhost:8080/",
          "height": 35
        }
      },
      "execution_count": 36,
      "outputs": [
        {
          "output_type": "execute_result",
          "data": {
            "text/plain": [
              "'ssalc kca'"
            ],
            "application/vnd.google.colaboratory.intrinsic+json": {
              "type": "string"
            }
          },
          "metadata": {},
          "execution_count": 36
        }
      ]
    },
    {
      "cell_type": "code",
      "source": [
        "s"
      ],
      "metadata": {
        "id": "AWaecMbLE4rR",
        "outputId": "1d4e5084-2b72-45a4-8ea3-bd9200bfe90d",
        "colab": {
          "base_uri": "https://localhost:8080/",
          "height": 35
        }
      },
      "execution_count": 37,
      "outputs": [
        {
          "output_type": "execute_result",
          "data": {
            "text/plain": [
              "'this is a full stack class'"
            ],
            "application/vnd.google.colaboratory.intrinsic+json": {
              "type": "string"
            }
          },
          "metadata": {},
          "execution_count": 37
        }
      ]
    },
    {
      "cell_type": "code",
      "source": [
        "for i in s:\n",
        "    print(i)"
      ],
      "metadata": {
        "id": "kM12-BYZFQTY",
        "outputId": "d4e34728-f39e-494f-dff4-6992f6e8a57d",
        "colab": {
          "base_uri": "https://localhost:8080/"
        }
      },
      "execution_count": 38,
      "outputs": [
        {
          "output_type": "stream",
          "name": "stdout",
          "text": [
            "t\n",
            "h\n",
            "i\n",
            "s\n",
            " \n",
            "i\n",
            "s\n",
            " \n",
            "a\n",
            " \n",
            "f\n",
            "u\n",
            "l\n",
            "l\n",
            " \n",
            "s\n",
            "t\n",
            "a\n",
            "c\n",
            "k\n",
            " \n",
            "c\n",
            "l\n",
            "a\n",
            "s\n",
            "s\n"
          ]
        }
      ]
    },
    {
      "cell_type": "code",
      "source": [
        "for i in range(len(s)):\n",
        "    print(s[2:10:1])"
      ],
      "metadata": {
        "id": "LJiKmmRCFXE4",
        "outputId": "3291e029-f0b7-47f1-cfb1-7dea78dfcffc",
        "colab": {
          "base_uri": "https://localhost:8080/"
        }
      },
      "execution_count": 42,
      "outputs": [
        {
          "output_type": "stream",
          "name": "stdout",
          "text": [
            "is is a \n",
            "is is a \n",
            "is is a \n",
            "is is a \n",
            "is is a \n",
            "is is a \n",
            "is is a \n",
            "is is a \n",
            "is is a \n",
            "is is a \n",
            "is is a \n",
            "is is a \n",
            "is is a \n",
            "is is a \n",
            "is is a \n",
            "is is a \n",
            "is is a \n",
            "is is a \n",
            "is is a \n",
            "is is a \n",
            "is is a \n",
            "is is a \n",
            "is is a \n",
            "is is a \n",
            "is is a \n",
            "is is a \n"
          ]
        }
      ]
    },
    {
      "cell_type": "code",
      "source": [
        "s[::-1]"
      ],
      "metadata": {
        "id": "nMv9eRmRFjBf",
        "outputId": "1d5172b1-6aff-47d3-8872-978d7e620457",
        "colab": {
          "base_uri": "https://localhost:8080/",
          "height": 35
        }
      },
      "execution_count": 45,
      "outputs": [
        {
          "output_type": "execute_result",
          "data": {
            "text/plain": [
              "'ssalc kcats lluf a si siht'"
            ],
            "application/vnd.google.colaboratory.intrinsic+json": {
              "type": "string"
            }
          },
          "metadata": {},
          "execution_count": 45
        }
      ]
    },
    {
      "cell_type": "code",
      "source": [
        "s[:-1]"
      ],
      "metadata": {
        "id": "oNOqR5S1F7cm",
        "outputId": "a4e5f757-7d28-444a-cbe4-d17bdffee346",
        "colab": {
          "base_uri": "https://localhost:8080/",
          "height": 35
        }
      },
      "execution_count": 46,
      "outputs": [
        {
          "output_type": "execute_result",
          "data": {
            "text/plain": [
              "'this is a full stack clas'"
            ],
            "application/vnd.google.colaboratory.intrinsic+json": {
              "type": "string"
            }
          },
          "metadata": {},
          "execution_count": 46
        }
      ]
    },
    {
      "cell_type": "code",
      "source": [
        "s"
      ],
      "metadata": {
        "id": "zBVr28HfGDj3",
        "outputId": "fd3b8476-b3a2-4ffa-8519-915e6c70fa94",
        "colab": {
          "base_uri": "https://localhost:8080/",
          "height": 35
        }
      },
      "execution_count": 47,
      "outputs": [
        {
          "output_type": "execute_result",
          "data": {
            "text/plain": [
              "'this is a full stack class'"
            ],
            "application/vnd.google.colaboratory.intrinsic+json": {
              "type": "string"
            }
          },
          "metadata": {},
          "execution_count": 47
        }
      ]
    },
    {
      "cell_type": "code",
      "source": [
        "l=[\"sdfs\",234,325,45,True]"
      ],
      "metadata": {
        "id": "jvJxvLg4GdDW"
      },
      "execution_count": 50,
      "outputs": []
    },
    {
      "cell_type": "code",
      "source": [
        "l[0]=\"picon\""
      ],
      "metadata": {
        "id": "JN8cXnUHGohG"
      },
      "execution_count": 52,
      "outputs": []
    },
    {
      "cell_type": "code",
      "source": [
        "l"
      ],
      "metadata": {
        "id": "-TM1ZPWIHCmr",
        "outputId": "31b3fa30-8c4a-4cf7-feda-1070a36df1f8",
        "colab": {
          "base_uri": "https://localhost:8080/"
        }
      },
      "execution_count": 53,
      "outputs": [
        {
          "output_type": "execute_result",
          "data": {
            "text/plain": [
              "['picon', 234, 325, 45, True]"
            ]
          },
          "metadata": {},
          "execution_count": 53
        }
      ]
    },
    {
      "cell_type": "code",
      "source": [
        "for i in range(len(s)):\n",
        "    print(s[2:10:2])"
      ],
      "metadata": {
        "id": "pgT1EAWJHHGs",
        "outputId": "c2ced304-97b3-4f23-fb52-f932021c75c4",
        "colab": {
          "base_uri": "https://localhost:8080/"
        }
      },
      "execution_count": 55,
      "outputs": [
        {
          "output_type": "stream",
          "name": "stdout",
          "text": [
            "i sa\n",
            "i sa\n",
            "i sa\n",
            "i sa\n",
            "i sa\n",
            "i sa\n",
            "i sa\n",
            "i sa\n",
            "i sa\n",
            "i sa\n",
            "i sa\n",
            "i sa\n",
            "i sa\n",
            "i sa\n",
            "i sa\n",
            "i sa\n",
            "i sa\n",
            "i sa\n",
            "i sa\n",
            "i sa\n",
            "i sa\n",
            "i sa\n",
            "i sa\n",
            "i sa\n",
            "i sa\n",
            "i sa\n"
          ]
        }
      ]
    },
    {
      "cell_type": "code",
      "source": [
        ""
      ],
      "metadata": {
        "id": "5bsfGMedRnNa"
      },
      "execution_count": null,
      "outputs": []
    }
  ],
  "metadata": {
    "colab": {
      "collapsed_sections": [],
      "name": "Welcome To Colaboratory",
      "toc_visible": true,
      "provenance": [],
      "include_colab_link": true
    },
    "kernelspec": {
      "display_name": "Python 3",
      "name": "python3"
    }
  },
  "nbformat": 4,
  "nbformat_minor": 0
}