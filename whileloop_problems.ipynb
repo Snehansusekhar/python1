{
  "nbformat": 4,
  "nbformat_minor": 0,
  "metadata": {
    "colab": {
      "name": "whileloop_problems.ipynb",
      "provenance": [],
      "collapsed_sections": [],
      "toc_visible": true,
      "authorship_tag": "ABX9TyOaKXi1CMa+yHiOxxSKG4ZK",
      "include_colab_link": true
    },
    "kernelspec": {
      "name": "python3",
      "display_name": "Python 3"
    },
    "language_info": {
      "name": "python"
    }
  },
  "cells": [
    {
      "cell_type": "markdown",
      "metadata": {
        "id": "view-in-github",
        "colab_type": "text"
      },
      "source": [
        "<a href=\"https://colab.research.google.com/github/Snehansusekhar/python1/blob/main/whileloop_problems.ipynb\" target=\"_parent\"><img src=\"https://colab.research.google.com/assets/colab-badge.svg\" alt=\"Open In Colab\"/></a>"
      ]
    },
    {
      "cell_type": "code",
      "execution_count": null,
      "metadata": {
        "colab": {
          "base_uri": "https://localhost:8080/"
        },
        "id": "1qBz2FqbguDA",
        "outputId": "51fdac48-909d-4ba5-ba49-427ecacc0cde"
      },
      "outputs": [
        {
          "output_type": "stream",
          "name": "stdout",
          "text": [
            "2\n",
            "4\n",
            "6\n",
            "8\n",
            "10\n",
            "12\n",
            "14\n",
            "16\n",
            "18\n",
            "20\n",
            "1\n",
            "3\n",
            "5\n",
            "7\n",
            "9\n",
            "11\n",
            "13\n",
            "15\n",
            "17\n",
            "19\n",
            "1\n",
            "2\n",
            "3\n",
            "4\n",
            "5\n",
            "6\n",
            "7\n",
            "8\n",
            "9\n",
            "10\n",
            "1\n",
            "2\n",
            "3\n",
            "4\n",
            "5\n",
            "6\n",
            "7\n",
            "8\n",
            "9\n",
            "10\n"
          ]
        }
      ],
      "source": [
        "#Q1. Write a program to print the following using while loop\n",
        "#a. First 10 Even numbers\n",
        "#b. First 10 Odd numbers\n",
        "#c. First 10 Natural numbers\n",
        "#d. First 10 Whole numbers\n",
        "\n",
        "\n",
        "#a.\n",
        "num=2\n",
        "while num<=20:\n",
        "  print(num)\n",
        "  num=num+2\n",
        "  \n",
        "\n",
        "#b.\n",
        "num=1\n",
        "while num<=20:\n",
        "  print(num)\n",
        "  num=num+2\n",
        "  \n",
        "\n",
        "#c.\n",
        "num=1\n",
        "while num<=10:\n",
        "  print(num)\n",
        "  num=num+1\n",
        "  \n",
        "\n",
        "#d.\n",
        "num=1\n",
        "while num<=10:\n",
        "  print(num)\n",
        "  num=num+1\n",
        "  \n",
        "\n"
      ]
    },
    {
      "cell_type": "code",
      "source": [
        "'''Q2. Write a program to print first 10 integers and their squares using while loop.\n",
        "1 1\n",
        "2 4\n",
        "3 9 and so on'''\n",
        "\n",
        "num=1\n",
        "print(\"numbers\\tsquares\")\n",
        "while num<=10:\n",
        "  print(num,\"\\t\",num**2)\n",
        "  num=num+1\n"
      ],
      "metadata": {
        "colab": {
          "base_uri": "https://localhost:8080/"
        },
        "id": "UkBJtGO7kV9f",
        "outputId": "8fe8fe73-650a-4e23-f3b8-59840073a401"
      },
      "execution_count": null,
      "outputs": [
        {
          "output_type": "stream",
          "name": "stdout",
          "text": [
            "numbers\tsquares\n",
            "1 \t 1\n",
            "2 \t 4\n",
            "3 \t 9\n",
            "4 \t 16\n",
            "5 \t 25\n",
            "6 \t 36\n",
            "7 \t 49\n",
            "8 \t 64\n",
            "9 \t 81\n",
            "10 \t 100\n"
          ]
        }
      ]
    },
    {
      "cell_type": "code",
      "source": [
        "#answers\n",
        "num = 1\n",
        "print(\"Numbers\\t\\t\\tSquares\")\n",
        "while(num<=10):\n",
        "   print(num,\"\\t\\t\\t\", num ** 2)\n",
        "   num = num + 1\n"
      ],
      "metadata": {
        "colab": {
          "base_uri": "https://localhost:8080/"
        },
        "id": "uvN-91aTktXl",
        "outputId": "0ebb0cf8-77d5-4c9e-ae77-49131f847b49"
      },
      "execution_count": null,
      "outputs": [
        {
          "output_type": "stream",
          "name": "stdout",
          "text": [
            "Numbers\t\t\tSquares\n",
            "1 \t\t\t 1\n",
            "2 \t\t\t 4\n",
            "3 \t\t\t 9\n",
            "4 \t\t\t 16\n",
            "5 \t\t\t 25\n",
            "6 \t\t\t 36\n",
            "7 \t\t\t 49\n",
            "8 \t\t\t 64\n",
            "9 \t\t\t 81\n",
            "10 \t\t\t 100\n"
          ]
        }
      ]
    },
    {
      "cell_type": "code",
      "source": [
        "num=3\n",
        "num1=num**2\n",
        "print(num1)"
      ],
      "metadata": {
        "colab": {
          "base_uri": "https://localhost:8080/"
        },
        "id": "k7txrwCBlt9O",
        "outputId": "6f250a6a-9849-4ac3-bb75-74e5cfb96a89"
      },
      "execution_count": null,
      "outputs": [
        {
          "output_type": "stream",
          "name": "stdout",
          "text": [
            "9\n"
          ]
        }
      ]
    },
    {
      "cell_type": "code",
      "source": [
        "'''Q3. Write for loop statement to print the following series:\n",
        "10, 20, 30 … … 300'''\n",
        "\n",
        "\n",
        "\n",
        "num=0\n",
        "while num<=300:\n",
        "  num=num+10\n",
        "  print(num,end=\",\")"
      ],
      "metadata": {
        "colab": {
          "base_uri": "https://localhost:8080/"
        },
        "id": "x4wb7vLmn0df",
        "outputId": "07c58f9c-7260-4385-e600-787df82d69a7"
      },
      "execution_count": null,
      "outputs": [
        {
          "output_type": "stream",
          "name": "stdout",
          "text": [
            "10,20,30,40,50,60,70,80,90,100,110,120,130,140,150,160,170,180,190,200,210,220,230,240,250,260,270,280,290,300,310,"
          ]
        }
      ]
    },
    {
      "cell_type": "code",
      "source": [
        "'''Q4. Write a while loop statement to print the following series\n",
        "105, 98, 91 ………7.'''\n",
        "\n",
        "num=105\n",
        "while num>=7:\n",
        "  print(num)\n",
        "  num=num-7\n"
      ],
      "metadata": {
        "colab": {
          "base_uri": "https://localhost:8080/"
        },
        "id": "X70G46Q3oREn",
        "outputId": "2bc94896-47be-45c1-9339-8bab2de9d8e3"
      },
      "execution_count": null,
      "outputs": [
        {
          "output_type": "stream",
          "name": "stdout",
          "text": [
            "105\n",
            "98\n",
            "91\n",
            "84\n",
            "77\n",
            "70\n",
            "63\n",
            "56\n",
            "49\n",
            "42\n",
            "35\n",
            "28\n",
            "21\n",
            "14\n",
            "7\n"
          ]
        }
      ]
    },
    {
      "cell_type": "code",
      "source": [
        "'''Q5. Write a program to print first 10 natural number in reverse order using while loop.\n",
        "Show Answer'''\n",
        "\n",
        "\n",
        "num=10\n",
        "while num>=1:\n",
        "  print(num)\n",
        "  num=num-1"
      ],
      "metadata": {
        "colab": {
          "base_uri": "https://localhost:8080/"
        },
        "id": "RvYYdpaer7Ev",
        "outputId": "34fec2d5-00f0-4111-a03d-3a0eb2663536"
      },
      "execution_count": null,
      "outputs": [
        {
          "output_type": "stream",
          "name": "stdout",
          "text": [
            "10\n",
            "9\n",
            "8\n",
            "7\n",
            "6\n",
            "5\n",
            "4\n",
            "3\n",
            "2\n",
            "1\n"
          ]
        }
      ]
    },
    {
      "cell_type": "code",
      "source": [
        "'''Q6. Write a program to print sum of first 10 Natural numbers.'''\n",
        "\n",
        "num=10\n",
        "sum=0\n",
        "while num>=1:\n",
        "  sum=sum+num\n",
        "  num=num-1\n",
        "print(sum)"
      ],
      "metadata": {
        "colab": {
          "base_uri": "https://localhost:8080/"
        },
        "id": "w-y7EsYcvfeK",
        "outputId": "c4793847-62c8-4959-ebeb-8fce34cd475b"
      },
      "execution_count": null,
      "outputs": [
        {
          "output_type": "stream",
          "name": "stdout",
          "text": [
            "55\n"
          ]
        }
      ]
    },
    {
      "cell_type": "code",
      "source": [
        "'''Q7. Write a program to print sum of first 10 Even numbers.'''\n",
        "\n",
        "\n",
        "num=2\n",
        "sum=0\n",
        "while num<=20:\n",
        "  sum=sum+num\n",
        "  num=num+2\n",
        "print(sum)"
      ],
      "metadata": {
        "colab": {
          "base_uri": "https://localhost:8080/"
        },
        "id": "rCYyZUcGzAkU",
        "outputId": "d19edd43-deef-4abb-e36f-56e005c516f2"
      },
      "execution_count": null,
      "outputs": [
        {
          "output_type": "stream",
          "name": "stdout",
          "text": [
            "110\n"
          ]
        }
      ]
    },
    {
      "cell_type": "code",
      "source": [
        "'''Q8. Write a program to print table of a number entered from the user.'''\n",
        "\n",
        "i = 1\n",
        "num = int(input(\"Enter any number\"))\n",
        "while i <= 10:\n",
        "    print(num,\" * \",i,\"  =  \", num * i)\n",
        "    i = i+1\n"
      ],
      "metadata": {
        "colab": {
          "base_uri": "https://localhost:8080/"
        },
        "id": "v183HJN_1HnA",
        "outputId": "32a042c6-a825-4bbd-ba8b-07540660a1d4"
      },
      "execution_count": null,
      "outputs": [
        {
          "output_type": "stream",
          "name": "stdout",
          "text": [
            "Enter any number5\n",
            "5  *  1   =   5\n",
            "5  *  2   =   10\n",
            "5  *  3   =   15\n",
            "5  *  4   =   20\n",
            "5  *  5   =   25\n",
            "5  *  6   =   30\n",
            "5  *  7   =   35\n",
            "5  *  8   =   40\n",
            "5  *  9   =   45\n",
            "5  *  10   =   50\n"
          ]
        }
      ]
    },
    {
      "cell_type": "code",
      "source": [
        "'''Q9. Write a program to find the sum of all even numbers that falls between two numbers (exclusive both numbers) \n",
        "entered from the user using while loop.'''\n",
        "\n",
        "num1=int(input(\"enter first number\"))\n",
        "num2=int(input(\"enter second number\"))\n",
        "if num1>num2:\n",
        "  while(num1>num2):\n",
        "   if num2%2==0:\n",
        "     print(num2)\n",
        "   num2=num2+1\n",
        "else:    \n",
        "  while(num1<num2):\n",
        "    if num1%2==0:\n",
        "      print(num1)\n",
        "    num1=num1+1 \n",
        "\n"
      ],
      "metadata": {
        "colab": {
          "base_uri": "https://localhost:8080/"
        },
        "id": "2se4N9cw4EQi",
        "outputId": "91ab77cb-635e-42c0-e320-62d5db01c316"
      },
      "execution_count": null,
      "outputs": [
        {
          "output_type": "stream",
          "name": "stdout",
          "text": [
            "enter first number27\n",
            "enter second number1\n",
            "2\n",
            "4\n",
            "6\n",
            "8\n",
            "10\n",
            "12\n",
            "14\n",
            "16\n",
            "18\n",
            "20\n",
            "22\n",
            "24\n",
            "26\n"
          ]
        }
      ]
    },
    {
      "cell_type": "code",
      "source": [
        "num1=int(input(\"enter first number\"))\n",
        "num2=int(input(\"enter second number\"))\n",
        "while(num1>num2):\n",
        "  if num2%2==0:\n",
        "    print(num2)\n",
        "  num2=num2+1  \n",
        "while(num1<num2):\n",
        "  if num1%2==0:\n",
        "    print(num1)\n",
        "  num1=num1+1 "
      ],
      "metadata": {
        "colab": {
          "base_uri": "https://localhost:8080/"
        },
        "id": "2dXWkFoc4anF",
        "outputId": "2ad56cab-0cef-4e2f-fbb1-ebb9766e4fdc"
      },
      "execution_count": null,
      "outputs": [
        {
          "output_type": "stream",
          "name": "stdout",
          "text": [
            "enter first number27\n",
            "enter second number1\n",
            "2\n",
            "4\n",
            "6\n",
            "8\n",
            "10\n",
            "12\n",
            "14\n",
            "16\n",
            "18\n",
            "20\n",
            "22\n",
            "24\n",
            "26\n"
          ]
        }
      ]
    },
    {
      "cell_type": "code",
      "source": [
        "'''Q10. Write a program to check whether a number is prime or not using while loop.'''\n",
        "\n",
        "num1 = int(input(\"Enter any number : \"))\n",
        "k=0\n",
        "if num1 == 0 or num1 == 1:\n",
        "    print(\"Not a prime number \")\n",
        "else:\n",
        "   i = 2\n",
        "   while(i<num1):\n",
        "     if num1 % i == 0:\n",
        "       k = k+1\n",
        "     i = i+1\n",
        "if k == 0 :\n",
        "        print( num1,\"is prime number\")\n",
        "else:\n",
        "        print(num1, \"is not prime number\")\n",
        "\n",
        "\n",
        "\n",
        "\n",
        "\n"
      ],
      "metadata": {
        "colab": {
          "base_uri": "https://localhost:8080/"
        },
        "id": "YqsUigaP66X6",
        "outputId": "441962af-a00c-4b2a-fc2e-155c2e3acff7"
      },
      "execution_count": null,
      "outputs": [
        {
          "output_type": "stream",
          "name": "stdout",
          "text": [
            "Enter any number : 11\n",
            "11 is prime number\n"
          ]
        }
      ]
    },
    {
      "cell_type": "code",
      "source": [
        "'''Q11. Write a program to find the sum of the digits of a number accepted from the user.'''\n",
        "\n",
        "\n",
        "num1=int(input(\"Enter a  number\"))\n",
        "num2=int(input(\"Enter a  number\"))\n",
        "num3=int(input(\"Enter a  number\"))\n",
        "num4=int(input(\"Enter a  number\"))\n",
        "\n",
        "sum=num1+num2+num3+num4\n",
        "print(sum)"
      ],
      "metadata": {
        "colab": {
          "base_uri": "https://localhost:8080/"
        },
        "id": "95A1sgrlKlnb",
        "outputId": "096da346-a7e8-45ac-e3c8-dd30887ecaed"
      },
      "execution_count": null,
      "outputs": [
        {
          "output_type": "stream",
          "name": "stdout",
          "text": [
            "Enter a  number2\n",
            "Enter a  number3\n",
            "Enter a  number4\n",
            "Enter a  number5\n",
            "14\n"
          ]
        }
      ]
    },
    {
      "cell_type": "code",
      "source": [
        " "
      ],
      "metadata": {
        "id": "No-gCNkE3ibF"
      },
      "execution_count": null,
      "outputs": []
    }
  ]
}