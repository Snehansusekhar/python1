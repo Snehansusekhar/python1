{
  "cells": [
    {
      "cell_type": "markdown",
      "metadata": {
        "id": "view-in-github",
        "colab_type": "text"
      },
      "source": [
        "<a href=\"https://colab.research.google.com/github/Snehansusekhar/python1/blob/main/Copy_of_Welcome_To_Colaboratory.ipynb\" target=\"_parent\"><img src=\"https://colab.research.google.com/assets/colab-badge.svg\" alt=\"Open In Colab\"/></a>"
      ]
    },
    {
      "cell_type": "code",
      "source": [
        "#and condition\n",
        "a = 10\n",
        "b = 20\n",
        "\n",
        "if a==10 and b==20 :\n",
        "    print(\"this is a valid statement\")"
      ],
      "metadata": {
        "colab": {
          "base_uri": "https://localhost:8080/"
        },
        "id": "jgs3FILzXHAo",
        "outputId": "70b3b71a-b7bf-4131-c1a2-bd90c0ee900f"
      },
      "execution_count": null,
      "outputs": [
        {
          "output_type": "stream",
          "name": "stdout",
          "text": [
            "this is a valid statement\n"
          ]
        }
      ]
    },
    {
      "cell_type": "code",
      "source": [
        "a==10 and b==20"
      ],
      "metadata": {
        "colab": {
          "base_uri": "https://localhost:8080/"
        },
        "id": "9LXAl-YRXbXh",
        "outputId": "c4d99319-bbf2-49e6-9b58-c37feab33745"
      },
      "execution_count": null,
      "outputs": [
        {
          "output_type": "execute_result",
          "data": {
            "text/plain": [
              "True"
            ]
          },
          "metadata": {},
          "execution_count": 2
        }
      ]
    },
    {
      "cell_type": "code",
      "source": [
        "a==10"
      ],
      "metadata": {
        "colab": {
          "base_uri": "https://localhost:8080/"
        },
        "id": "ogRNRBvaYCVK",
        "outputId": "4cb1ea2f-328b-45df-ded9-bfa296165743"
      },
      "execution_count": null,
      "outputs": [
        {
          "output_type": "execute_result",
          "data": {
            "text/plain": [
              "True"
            ]
          },
          "metadata": {},
          "execution_count": 3
        }
      ]
    },
    {
      "cell_type": "code",
      "source": [
        "b==20"
      ],
      "metadata": {
        "colab": {
          "base_uri": "https://localhost:8080/"
        },
        "id": "Rn6jzEk2YEMa",
        "outputId": "b23f195c-2960-4c4e-dec7-6a588b5729ae"
      },
      "execution_count": null,
      "outputs": [
        {
          "output_type": "execute_result",
          "data": {
            "text/plain": [
              "True"
            ]
          },
          "metadata": {},
          "execution_count": 4
        }
      ]
    },
    {
      "cell_type": "code",
      "source": [
        "a = 10\n",
        "b = 20\n",
        "\n",
        "if a==10 and b>20 :\n",
        "    print(\"this is a valid statement\")\n",
        "else:\n",
        "    print(\"condition is not valid\")    "
      ],
      "metadata": {
        "colab": {
          "base_uri": "https://localhost:8080/"
        },
        "id": "DrGj-QpsYE_U",
        "outputId": "df7f59ea-a796-4f8e-d5ca-24cf1f310117"
      },
      "execution_count": null,
      "outputs": [
        {
          "output_type": "stream",
          "name": "stdout",
          "text": [
            "condition is not valid\n"
          ]
        }
      ]
    },
    {
      "cell_type": "code",
      "source": [
        "a = 10\n",
        "b = 20\n",
        "\n",
        "if a==10 and b>20 :\n",
        "    print(\"this is a valid statement\")\n",
        "elif a==10 and b<=20:\n",
        "    print(\"this condition is valid inside elif\")\n",
        "else:\n",
        "    print(\"condition is not valid\")    "
      ],
      "metadata": {
        "colab": {
          "base_uri": "https://localhost:8080/"
        },
        "id": "sNwZ2-mRYL0Z",
        "outputId": "cc55b328-7aa2-4717-b068-1392ad605162"
      },
      "execution_count": null,
      "outputs": [
        {
          "output_type": "stream",
          "name": "stdout",
          "text": [
            "this condition is valid inside elif\n"
          ]
        }
      ]
    },
    {
      "cell_type": "code",
      "source": [
        "#or condition\n",
        "a = 10\n",
        "b = 20\n",
        "\n",
        "if a==10 or b>20 :\n",
        "    print(\"this is a valid statement\")\n",
        "elif a==10 or b<=20:\n",
        "    print(\"this condition is valid inside elif\")\n",
        "else:\n",
        "    print(\"condition is not valid\")\n"
      ],
      "metadata": {
        "colab": {
          "base_uri": "https://localhost:8080/"
        },
        "id": "_ai8XUs5ZBR3",
        "outputId": "2fccbcd2-e313-46d7-fc25-bd2e63104137"
      },
      "execution_count": null,
      "outputs": [
        {
          "output_type": "stream",
          "name": "stdout",
          "text": [
            "this is a valid statement\n"
          ]
        }
      ]
    },
    {
      "cell_type": "code",
      "source": [
        "a=input(\"first name \")\n",
        "b=input(\"last name \")\n",
        "if a=='snehansu' and b=='sekhar':\n",
        "    print(\"my name is correct\")\n",
        "elif a==\"sekhar\" and b==\"snehansu\":\n",
        "    print(\"omg what a name\")   \n",
        "else:\n",
        "    print(\"my name is wrong\")"
      ],
      "metadata": {
        "colab": {
          "base_uri": "https://localhost:8080/"
        },
        "id": "yyqFlriGZamt",
        "outputId": "80714e39-0048-4265-9d6f-b8b95bd3485c"
      },
      "execution_count": null,
      "outputs": [
        {
          "output_type": "stream",
          "name": "stdout",
          "text": [
            "first name sekhar\n",
            "last name snehansu\n",
            "omg what a name\n"
          ]
        }
      ]
    },
    {
      "cell_type": "code",
      "source": [
        "#indentation is very much important in python\n",
        "\n",
        "if a==10:\n",
        "   print (\"this is valid\")\n"
      ],
      "metadata": {
        "id": "j-bB13Klarp6"
      },
      "execution_count": null,
      "outputs": []
    },
    {
      "cell_type": "code",
      "source": [
        "#while loop\n",
        "\n",
        "initial_speed=0\n",
        "final_speed=100\n",
        "count=1\n",
        "\n",
        "while initial_speed <= final_speed:\n",
        "    print(\"speed\")\n",
        "    count=count+1\n",
        "    if count==10:\n",
        "      break"
      ],
      "metadata": {
        "colab": {
          "base_uri": "https://localhost:8080/"
        },
        "id": "7Cs4gBpehNIo",
        "outputId": "cbd1df9f-968f-492a-89cd-30923ec69f4f"
      },
      "execution_count": null,
      "outputs": [
        {
          "output_type": "stream",
          "name": "stdout",
          "text": [
            "speed\n",
            "speed\n",
            "speed\n",
            "speed\n",
            "speed\n",
            "speed\n",
            "speed\n",
            "speed\n",
            "speed\n"
          ]
        }
      ]
    },
    {
      "cell_type": "code",
      "source": [
        "i = 1\n",
        "j = 5\n",
        "while i <j :\n",
        "    print(i)\n",
        "    i=i+1\n"
      ],
      "metadata": {
        "colab": {
          "base_uri": "https://localhost:8080/"
        },
        "id": "PAjJB7athTYD",
        "outputId": "788392f1-77f0-4f54-a7f7-f8a6f6892ba1"
      },
      "execution_count": null,
      "outputs": [
        {
          "output_type": "stream",
          "name": "stdout",
          "text": [
            "1\n",
            "2\n",
            "3\n",
            "4\n"
          ]
        }
      ]
    },
    {
      "cell_type": "code",
      "source": [
        "initial_speed=0\n",
        "final_speed=10\n",
        "\n",
        "while initial_speed < final_speed:\n",
        "    print(\"speed\")\n",
        "    initial_speed=initial_speed+1\n",
        "    "
      ],
      "metadata": {
        "colab": {
          "base_uri": "https://localhost:8080/"
        },
        "id": "Ppm7B2Jnjkr7",
        "outputId": "1b751233-aa57-4912-d4e6-9d5c0bc4a90e"
      },
      "execution_count": null,
      "outputs": [
        {
          "output_type": "stream",
          "name": "stdout",
          "text": [
            "speed\n",
            "speed\n",
            "speed\n",
            "speed\n",
            "speed\n",
            "speed\n",
            "speed\n",
            "speed\n",
            "speed\n",
            "speed\n"
          ]
        }
      ]
    },
    {
      "cell_type": "code",
      "source": [
        "notes=5\n",
        "i=1\n",
        "while i < notes:\n",
        "    print(i)\n",
        "    i += 1\n",
        "else:\n",
        "    print(\"no 10rs note is availabe\")"
      ],
      "metadata": {
        "colab": {
          "base_uri": "https://localhost:8080/"
        },
        "id": "xfKlBt6-j6tf",
        "outputId": "190c4c82-af31-423e-f1a0-0826a4129492"
      },
      "execution_count": null,
      "outputs": [
        {
          "output_type": "stream",
          "name": "stdout",
          "text": [
            "1\n",
            "2\n",
            "3\n",
            "4\n",
            "no 10rs note is availabe\n"
          ]
        }
      ]
    },
    {
      "cell_type": "code",
      "source": [
        "#while else statement\n",
        "\n",
        "notes=5\n",
        "i=1\n",
        "while i < notes:\n",
        "    print(i)\n",
        "    i =i+1\n",
        "else:\n",
        "    print(\"no 10rs note is availabe\")"
      ],
      "metadata": {
        "colab": {
          "base_uri": "https://localhost:8080/"
        },
        "id": "ewvx0B0nnuhI",
        "outputId": "05d73c7c-4116-4573-da09-8917170caf67"
      },
      "execution_count": null,
      "outputs": [
        {
          "output_type": "stream",
          "name": "stdout",
          "text": [
            "1\n",
            "2\n",
            "3\n",
            "4\n",
            "no 10rs note is availabe\n"
          ]
        }
      ]
    },
    {
      "cell_type": "code",
      "source": [
        "notes=5\n",
        "i=1\n",
        "j=1\n",
        "while i < notes:\n",
        "    print(i)\n",
        "    i =i+1\n",
        "else:\n",
        "    while j< 2:\n",
        "        print(i)\n",
        "        j=j+1\n",
        "    print(\"no 10rs note is availabe\")"
      ],
      "metadata": {
        "colab": {
          "base_uri": "https://localhost:8080/"
        },
        "id": "KzIR4jdHn-I4",
        "outputId": "2c8f48a3-157d-43ce-9b95-e363b83aaaf4"
      },
      "execution_count": null,
      "outputs": [
        {
          "output_type": "stream",
          "name": "stdout",
          "text": [
            "1\n",
            "2\n",
            "3\n",
            "4\n",
            "5\n",
            "no 10rs note is availabe\n"
          ]
        }
      ]
    },
    {
      "cell_type": "code",
      "source": [
        "s=\"picon\"\n",
        "\n"
      ],
      "metadata": {
        "id": "dFSR-UnEpJW2"
      },
      "execution_count": null,
      "outputs": []
    },
    {
      "cell_type": "code",
      "source": [
        "s"
      ],
      "metadata": {
        "colab": {
          "base_uri": "https://localhost:8080/",
          "height": 35
        },
        "id": "vBbiR1okqKTt",
        "outputId": "8fd83dad-2316-4ac6-f36f-68d985bcac69"
      },
      "execution_count": null,
      "outputs": [
        {
          "output_type": "execute_result",
          "data": {
            "text/plain": [
              "'picon'"
            ],
            "application/vnd.google.colaboratory.intrinsic+json": {
              "type": "string"
            }
          },
          "metadata": {},
          "execution_count": 57
        }
      ]
    },
    {
      "cell_type": "code",
      "source": [
        "s[0:5]"
      ],
      "metadata": {
        "colab": {
          "base_uri": "https://localhost:8080/",
          "height": 35
        },
        "id": "InpBsG5eqV5y",
        "outputId": "6eb49199-8de7-415d-8d6f-57849cc6be63"
      },
      "execution_count": null,
      "outputs": [
        {
          "output_type": "execute_result",
          "data": {
            "text/plain": [
              "'picon'"
            ],
            "application/vnd.google.colaboratory.intrinsic+json": {
              "type": "string"
            }
          },
          "metadata": {},
          "execution_count": 61
        }
      ]
    },
    {
      "cell_type": "code",
      "source": [
        "s=\"my name is snehansu\""
      ],
      "metadata": {
        "id": "iEjiZanQqa9g"
      },
      "execution_count": null,
      "outputs": []
    },
    {
      "cell_type": "code",
      "source": [
        "s[3:10]"
      ],
      "metadata": {
        "colab": {
          "base_uri": "https://localhost:8080/",
          "height": 35
        },
        "id": "SgMfyE4eqr8u",
        "outputId": "f2b34ee5-3f30-442f-837b-0b91b47470a9"
      },
      "execution_count": null,
      "outputs": [
        {
          "output_type": "execute_result",
          "data": {
            "text/plain": [
              "'name is'"
            ],
            "application/vnd.google.colaboratory.intrinsic+json": {
              "type": "string"
            }
          },
          "metadata": {},
          "execution_count": 66
        }
      ]
    },
    {
      "cell_type": "code",
      "source": [
        "s[0:20]"
      ],
      "metadata": {
        "colab": {
          "base_uri": "https://localhost:8080/",
          "height": 35
        },
        "id": "YHNP_w06q1O7",
        "outputId": "c82284dc-8a1e-41eb-e38d-191b04e1695d"
      },
      "execution_count": null,
      "outputs": [
        {
          "output_type": "execute_result",
          "data": {
            "text/plain": [
              "'my name is snehansu'"
            ],
            "application/vnd.google.colaboratory.intrinsic+json": {
              "type": "string"
            }
          },
          "metadata": {},
          "execution_count": 73
        }
      ]
    },
    {
      "cell_type": "code",
      "source": [
        "s[3:10:1]"
      ],
      "metadata": {
        "colab": {
          "base_uri": "https://localhost:8080/",
          "height": 35
        },
        "id": "nvSzblfAsBYv",
        "outputId": "a96ecd13-4c35-4f56-9d10-434ddae0d176"
      },
      "execution_count": null,
      "outputs": [
        {
          "output_type": "execute_result",
          "data": {
            "text/plain": [
              "'name is'"
            ],
            "application/vnd.google.colaboratory.intrinsic+json": {
              "type": "string"
            }
          },
          "metadata": {},
          "execution_count": 81
        }
      ]
    },
    {
      "cell_type": "code",
      "source": [
        "s[3:10:2]"
      ],
      "metadata": {
        "colab": {
          "base_uri": "https://localhost:8080/",
          "height": 35
        },
        "id": "nyhjmq7IsWCq",
        "outputId": "45409ffe-832b-4922-aa90-704d9016b6a9"
      },
      "execution_count": null,
      "outputs": [
        {
          "output_type": "execute_result",
          "data": {
            "text/plain": [
              "'nm s'"
            ],
            "application/vnd.google.colaboratory.intrinsic+json": {
              "type": "string"
            }
          },
          "metadata": {},
          "execution_count": 83
        }
      ]
    },
    {
      "cell_type": "code",
      "source": [
        "s[10:3:-1]"
      ],
      "metadata": {
        "colab": {
          "base_uri": "https://localhost:8080/",
          "height": 35
        },
        "id": "JgNIeed5tBIx",
        "outputId": "12597959-9a22-4b7b-fc08-15850187144d"
      },
      "execution_count": null,
      "outputs": [
        {
          "output_type": "execute_result",
          "data": {
            "text/plain": [
              "' si ema'"
            ],
            "application/vnd.google.colaboratory.intrinsic+json": {
              "type": "string"
            }
          },
          "metadata": {},
          "execution_count": 84
        }
      ]
    },
    {
      "cell_type": "code",
      "source": [
        "s[20:0:-1]"
      ],
      "metadata": {
        "colab": {
          "base_uri": "https://localhost:8080/",
          "height": 35
        },
        "id": "Rd-mvnvrumYz",
        "outputId": "22f266fe-9f02-4080-c6f7-cf70a092614f"
      },
      "execution_count": null,
      "outputs": [
        {
          "output_type": "execute_result",
          "data": {
            "text/plain": [
              "'usnahens si eman y'"
            ],
            "application/vnd.google.colaboratory.intrinsic+json": {
              "type": "string"
            }
          },
          "metadata": {},
          "execution_count": 88
        }
      ]
    },
    {
      "cell_type": "code",
      "source": [
        "s[20:0:-2]"
      ],
      "metadata": {
        "colab": {
          "base_uri": "https://localhost:8080/",
          "height": 35
        },
        "id": "Z5k3R_4Wup0F",
        "outputId": "abe79a44-0f2c-4c87-e9f4-0e4ee39b945f"
      },
      "execution_count": null,
      "outputs": [
        {
          "output_type": "execute_result",
          "data": {
            "text/plain": [
              "'unhn iea '"
            ],
            "application/vnd.google.colaboratory.intrinsic+json": {
              "type": "string"
            }
          },
          "metadata": {},
          "execution_count": 90
        }
      ]
    },
    {
      "cell_type": "code",
      "source": [
        "s[::-1]"
      ],
      "metadata": {
        "colab": {
          "base_uri": "https://localhost:8080/",
          "height": 35
        },
        "id": "rKr-EClBu4gt",
        "outputId": "6086bf49-beec-48b6-eb81-535d34f7265e"
      },
      "execution_count": null,
      "outputs": [
        {
          "output_type": "execute_result",
          "data": {
            "text/plain": [
              "'usnahens si eman ym'"
            ],
            "application/vnd.google.colaboratory.intrinsic+json": {
              "type": "string"
            }
          },
          "metadata": {},
          "execution_count": 91
        }
      ]
    },
    {
      "cell_type": "code",
      "source": [
        "s[0::]"
      ],
      "metadata": {
        "colab": {
          "base_uri": "https://localhost:8080/",
          "height": 35
        },
        "id": "FhDmvivWvCWM",
        "outputId": "72897f51-0e40-433b-e50f-33a73225e5b8"
      },
      "execution_count": null,
      "outputs": [
        {
          "output_type": "execute_result",
          "data": {
            "text/plain": [
              "'my name is snehansu'"
            ],
            "application/vnd.google.colaboratory.intrinsic+json": {
              "type": "string"
            }
          },
          "metadata": {},
          "execution_count": 93
        }
      ]
    },
    {
      "cell_type": "code",
      "source": [
        "s[2:-6]"
      ],
      "metadata": {
        "colab": {
          "base_uri": "https://localhost:8080/",
          "height": 35
        },
        "id": "M2eSAT6tvFJY",
        "outputId": "d01d2a67-7091-4fe7-e15a-992776acfccc"
      },
      "execution_count": null,
      "outputs": [
        {
          "output_type": "execute_result",
          "data": {
            "text/plain": [
              "' name is sn'"
            ],
            "application/vnd.google.colaboratory.intrinsic+json": {
              "type": "string"
            }
          },
          "metadata": {},
          "execution_count": 94
        }
      ]
    },
    {
      "cell_type": "code",
      "source": [
        "s[-6:2]"
      ],
      "metadata": {
        "colab": {
          "base_uri": "https://localhost:8080/",
          "height": 35
        },
        "id": "n6FtKUOivna5",
        "outputId": "0e3eb434-0171-4dc7-bbda-dd2b2c1443a8"
      },
      "execution_count": null,
      "outputs": [
        {
          "output_type": "execute_result",
          "data": {
            "text/plain": [
              "''"
            ],
            "application/vnd.google.colaboratory.intrinsic+json": {
              "type": "string"
            }
          },
          "metadata": {},
          "execution_count": 95
        }
      ]
    },
    {
      "cell_type": "code",
      "source": [
        "s"
      ],
      "metadata": {
        "colab": {
          "base_uri": "https://localhost:8080/",
          "height": 35
        },
        "id": "PhXZ62zLwqga",
        "outputId": "4db0ec03-6fda-4578-ab4c-244fbba345f4"
      },
      "execution_count": null,
      "outputs": [
        {
          "output_type": "execute_result",
          "data": {
            "text/plain": [
              "'my name is snehansu'"
            ],
            "application/vnd.google.colaboratory.intrinsic+json": {
              "type": "string"
            }
          },
          "metadata": {},
          "execution_count": 96
        }
      ]
    },
    {
      "cell_type": "code",
      "source": [
        "#for loop\n",
        "\n",
        "for j in s:\n",
        "   print(j)"
      ],
      "metadata": {
        "colab": {
          "base_uri": "https://localhost:8080/"
        },
        "id": "qupjSnrrxJ5n",
        "outputId": "22a796a1-d5d1-423e-d421-995e654444e8"
      },
      "execution_count": null,
      "outputs": [
        {
          "output_type": "stream",
          "name": "stdout",
          "text": [
            "m\n",
            "y\n",
            " \n",
            "n\n",
            "a\n",
            "m\n",
            "e\n",
            " \n",
            "i\n",
            "s\n",
            " \n",
            "s\n",
            "n\n",
            "e\n",
            "h\n",
            "a\n",
            "n\n",
            "s\n",
            "u\n"
          ]
        }
      ]
    },
    {
      "cell_type": "code",
      "source": [
        "#for loop\n",
        "\n",
        "for j in s:\n",
        "   if j == 's':\n",
        "      print(\"i got s as a string\")\n",
        "   print(j)"
      ],
      "metadata": {
        "colab": {
          "base_uri": "https://localhost:8080/"
        },
        "id": "Ocrwl3v2xVrk",
        "outputId": "7b438b64-d295-4930-8f10-e9715726a255"
      },
      "execution_count": null,
      "outputs": [
        {
          "output_type": "stream",
          "name": "stdout",
          "text": [
            "m\n",
            "y\n",
            " \n",
            "n\n",
            "a\n",
            "m\n",
            "e\n",
            " \n",
            "i\n",
            "i got s as a string\n",
            "s\n",
            " \n",
            "i got s as a string\n",
            "s\n",
            "n\n",
            "e\n",
            "h\n",
            "a\n",
            "n\n",
            "i got s as a string\n",
            "s\n",
            "u\n"
          ]
        }
      ]
    },
    {
      "cell_type": "code",
      "source": [
        "s"
      ],
      "metadata": {
        "colab": {
          "base_uri": "https://localhost:8080/",
          "height": 35
        },
        "id": "vXcOB4TtyWLW",
        "outputId": "e403bc16-517c-459e-d744-1c389b9cfec5"
      },
      "execution_count": null,
      "outputs": [
        {
          "output_type": "execute_result",
          "data": {
            "text/plain": [
              "'my name is snehansu'"
            ],
            "application/vnd.google.colaboratory.intrinsic+json": {
              "type": "string"
            }
          },
          "metadata": {},
          "execution_count": 110
        }
      ]
    },
    {
      "cell_type": "code",
      "source": [
        "for i in s:\n",
        "    print(i)\n",
        "else:\n",
        "    print(\"this is a else condition\")    "
      ],
      "metadata": {
        "colab": {
          "base_uri": "https://localhost:8080/"
        },
        "id": "T1k2c41I7rWG",
        "outputId": "ecb27656-7d7f-4437-f243-120329224825"
      },
      "execution_count": null,
      "outputs": [
        {
          "output_type": "stream",
          "name": "stdout",
          "text": [
            "m\n",
            "y\n",
            " \n",
            "n\n",
            "a\n",
            "m\n",
            "e\n",
            " \n",
            "i\n",
            "s\n",
            " \n",
            "s\n",
            "n\n",
            "e\n",
            "h\n",
            "a\n",
            "n\n",
            "s\n",
            "u\n",
            "this is a else condition\n"
          ]
        }
      ]
    },
    {
      "cell_type": "code",
      "source": [
        "for i in s:\n",
        "    if i=='a':\n",
        "        continue\n",
        "\n",
        "    print(i)\n",
        "else:\n",
        "    if i== 'u' :\n",
        "        print(\"print last character is u\")\n",
        "    print(\"this is a else condition\") "
      ],
      "metadata": {
        "colab": {
          "base_uri": "https://localhost:8080/"
        },
        "id": "KbSOUhdI74Zi",
        "outputId": "04ef812b-3b29-427d-9558-bbba9c7134e2"
      },
      "execution_count": null,
      "outputs": [
        {
          "output_type": "stream",
          "name": "stdout",
          "text": [
            "m\n",
            "y\n",
            " \n",
            "n\n",
            "m\n",
            "e\n",
            " \n",
            "i\n",
            "s\n",
            " \n",
            "s\n",
            "n\n",
            "e\n",
            "h\n",
            "n\n",
            "s\n",
            "u\n",
            "print last character is u\n",
            "this is a else condition\n"
          ]
        }
      ]
    },
    {
      "cell_type": "code",
      "source": [
        "n=20\n",
        "for i in range(0,n):\n",
        "    for j in range(0,i+1):\n",
        "          print(\"+\",end=\"\")\n",
        "    print(\"\\r\")    "
      ],
      "metadata": {
        "colab": {
          "base_uri": "https://localhost:8080/"
        },
        "id": "5fwBJECk8NTx",
        "outputId": "766e6f7c-c122-417d-d901-6f6fd15b4d83"
      },
      "execution_count": null,
      "outputs": [
        {
          "output_type": "stream",
          "name": "stdout",
          "text": [
            "+\r\n",
            "++\r\n",
            "+++\r\n",
            "++++\r\n",
            "+++++\r\n",
            "++++++\r\n",
            "+++++++\r\n",
            "++++++++\r\n",
            "+++++++++\r\n",
            "++++++++++\r\n",
            "+++++++++++\r\n",
            "++++++++++++\r\n",
            "+++++++++++++\r\n",
            "++++++++++++++\r\n",
            "+++++++++++++++\r\n",
            "++++++++++++++++\r\n",
            "+++++++++++++++++\r\n",
            "++++++++++++++++++\r\n",
            "+++++++++++++++++++\r\n",
            "++++++++++++++++++++\r\n"
          ]
        }
      ]
    },
    {
      "cell_type": "code",
      "source": [
        "s=\"inurion\"\n",
        "ss=\"\"\n",
        "for i in range(len(s)):\n",
        "    if s[i]==\"n\":\n",
        "      continue\n",
        "    else:\n",
        "        ss=ss+s[i]  \n"
      ],
      "metadata": {
        "id": "11PAP_LVBZtW"
      },
      "execution_count": null,
      "outputs": []
    },
    {
      "cell_type": "code",
      "source": [
        "ss\n"
      ],
      "metadata": {
        "colab": {
          "base_uri": "https://localhost:8080/",
          "height": 35
        },
        "id": "vsefCelvCzCu",
        "outputId": "459d1f70-914b-4b27-9983-d0df6733d45f"
      },
      "execution_count": null,
      "outputs": [
        {
          "output_type": "execute_result",
          "data": {
            "text/plain": [
              "'iurio'"
            ],
            "application/vnd.google.colaboratory.intrinsic+json": {
              "type": "string"
            }
          },
          "metadata": {},
          "execution_count": 132
        }
      ]
    },
    {
      "cell_type": "code",
      "source": [
        "n = 7\n",
        "m = 2 * n-2\n",
        "for i in range(n,-1,-1):\n",
        "    for j in range(m,0,-1):\n",
        "       print(end=\" \")\n",
        "    m = m + 1\n",
        "    for j in range(0 ,i + 1):\n",
        "      print(\"*\",end=\"\")\n",
        "      print(\"\") "
      ],
      "metadata": {
        "colab": {
          "base_uri": "https://localhost:8080/"
        },
        "id": "zQ-r3fRiC-nu",
        "outputId": "387ce0b4-7e5f-4ab4-9fd6-bca55fab6c7e"
      },
      "execution_count": null,
      "outputs": [
        {
          "output_type": "stream",
          "name": "stdout",
          "text": [
            "            *\n",
            "*\n",
            "*\n",
            "*\n",
            "*\n",
            "*\n",
            "*\n",
            "*\n",
            "             *\n",
            "*\n",
            "*\n",
            "*\n",
            "*\n",
            "*\n",
            "*\n",
            "              *\n",
            "*\n",
            "*\n",
            "*\n",
            "*\n",
            "*\n",
            "               *\n",
            "*\n",
            "*\n",
            "*\n",
            "*\n",
            "                *\n",
            "*\n",
            "*\n",
            "*\n",
            "                 *\n",
            "*\n",
            "*\n",
            "                  *\n",
            "*\n",
            "                   *\n"
          ]
        }
      ]
    },
    {
      "cell_type": "code",
      "source": [
        ""
      ],
      "metadata": {
        "id": "ripi0VegFFAf"
      },
      "execution_count": null,
      "outputs": []
    }
  ],
  "metadata": {
    "colab": {
      "collapsed_sections": [],
      "name": "Copy of Welcome To Colaboratory",
      "toc_visible": true,
      "provenance": [],
      "include_colab_link": true
    },
    "kernelspec": {
      "display_name": "Python 3",
      "name": "python3"
    }
  },
  "nbformat": 4,
  "nbformat_minor": 0
}