{
  "cells": [
    {
      "cell_type": "markdown",
      "metadata": {
        "id": "view-in-github",
        "colab_type": "text"
      },
      "source": [
        "<a href=\"https://colab.research.google.com/github/Snehansusekhar/python1/blob/main/Copy_of_Welcome_To_Colaboratory.ipynb\" target=\"_parent\"><img src=\"https://colab.research.google.com/assets/colab-badge.svg\" alt=\"Open In Colab\"/></a>"
      ]
    },
    {
      "cell_type": "code",
      "source": [
        "#and condition\n",
        "a = 10\n",
        "b = 20\n",
        "\n",
        "if a==10 and b==20 :\n",
        "    print(\"this is a valid statement\")"
      ],
      "metadata": {
        "colab": {
          "base_uri": "https://localhost:8080/"
        },
        "id": "jgs3FILzXHAo",
        "outputId": "70b3b71a-b7bf-4131-c1a2-bd90c0ee900f"
      },
      "execution_count": null,
      "outputs": [
        {
          "output_type": "stream",
          "name": "stdout",
          "text": [
            "this is a valid statement\n"
          ]
        }
      ]
    },
    {
      "cell_type": "code",
      "source": [
        "a==10 and b==20"
      ],
      "metadata": {
        "colab": {
          "base_uri": "https://localhost:8080/"
        },
        "id": "9LXAl-YRXbXh",
        "outputId": "c4d99319-bbf2-49e6-9b58-c37feab33745"
      },
      "execution_count": null,
      "outputs": [
        {
          "output_type": "execute_result",
          "data": {
            "text/plain": [
              "True"
            ]
          },
          "metadata": {},
          "execution_count": 2
        }
      ]
    },
    {
      "cell_type": "code",
      "source": [
        "a==10"
      ],
      "metadata": {
        "colab": {
          "base_uri": "https://localhost:8080/"
        },
        "id": "ogRNRBvaYCVK",
        "outputId": "4cb1ea2f-328b-45df-ded9-bfa296165743"
      },
      "execution_count": null,
      "outputs": [
        {
          "output_type": "execute_result",
          "data": {
            "text/plain": [
              "True"
            ]
          },
          "metadata": {},
          "execution_count": 3
        }
      ]
    },
    {
      "cell_type": "code",
      "source": [
        "b==20"
      ],
      "metadata": {
        "colab": {
          "base_uri": "https://localhost:8080/"
        },
        "id": "Rn6jzEk2YEMa",
        "outputId": "b23f195c-2960-4c4e-dec7-6a588b5729ae"
      },
      "execution_count": null,
      "outputs": [
        {
          "output_type": "execute_result",
          "data": {
            "text/plain": [
              "True"
            ]
          },
          "metadata": {},
          "execution_count": 4
        }
      ]
    },
    {
      "cell_type": "code",
      "source": [
        "a = 10\n",
        "b = 20\n",
        "\n",
        "if a==10 and b>20 :\n",
        "    print(\"this is a valid statement\")\n",
        "else:\n",
        "    print(\"condition is not valid\")    "
      ],
      "metadata": {
        "colab": {
          "base_uri": "https://localhost:8080/"
        },
        "id": "DrGj-QpsYE_U",
        "outputId": "df7f59ea-a796-4f8e-d5ca-24cf1f310117"
      },
      "execution_count": null,
      "outputs": [
        {
          "output_type": "stream",
          "name": "stdout",
          "text": [
            "condition is not valid\n"
          ]
        }
      ]
    },
    {
      "cell_type": "code",
      "source": [
        "a = 10\n",
        "b = 20\n",
        "\n",
        "if a==10 and b>20 :\n",
        "    print(\"this is a valid statement\")\n",
        "elif a==10 and b<=20:\n",
        "    print(\"this condition is valid inside elif\")\n",
        "else:\n",
        "    print(\"condition is not valid\")    "
      ],
      "metadata": {
        "colab": {
          "base_uri": "https://localhost:8080/"
        },
        "id": "sNwZ2-mRYL0Z",
        "outputId": "cc55b328-7aa2-4717-b068-1392ad605162"
      },
      "execution_count": null,
      "outputs": [
        {
          "output_type": "stream",
          "name": "stdout",
          "text": [
            "this condition is valid inside elif\n"
          ]
        }
      ]
    },
    {
      "cell_type": "code",
      "source": [
        "#or condition\n",
        "a = 10\n",
        "b = 20\n",
        "\n",
        "if a==10 or b>20 :\n",
        "    print(\"this is a valid statement\")\n",
        "elif a==10 or b<=20:\n",
        "    print(\"this condition is valid inside elif\")\n",
        "else:\n",
        "    print(\"condition is not valid\")\n"
      ],
      "metadata": {
        "colab": {
          "base_uri": "https://localhost:8080/"
        },
        "id": "_ai8XUs5ZBR3",
        "outputId": "2fccbcd2-e313-46d7-fc25-bd2e63104137"
      },
      "execution_count": null,
      "outputs": [
        {
          "output_type": "stream",
          "name": "stdout",
          "text": [
            "this is a valid statement\n"
          ]
        }
      ]
    },
    {
      "cell_type": "code",
      "source": [
        "a=input(\"first name \")\n",
        "b=input(\"last name \")\n",
        "if a=='snehansu' and b=='sekhar':\n",
        "    print(\"my name is correct\")\n",
        "elif a==\"sekhar\" and b==\"snehansu\":\n",
        "    print(\"omg what a name\")   \n",
        "else:\n",
        "    print(\"my name is wrong\")"
      ],
      "metadata": {
        "colab": {
          "base_uri": "https://localhost:8080/"
        },
        "id": "yyqFlriGZamt",
        "outputId": "80714e39-0048-4265-9d6f-b8b95bd3485c"
      },
      "execution_count": null,
      "outputs": [
        {
          "output_type": "stream",
          "name": "stdout",
          "text": [
            "first name sekhar\n",
            "last name snehansu\n",
            "omg what a name\n"
          ]
        }
      ]
    },
    {
      "cell_type": "code",
      "source": [
        "#indentation is very much important in python\n",
        "\n",
        "if a==10:\n",
        "   print (\"this is valid\")\n"
      ],
      "metadata": {
        "id": "j-bB13Klarp6"
      },
      "execution_count": null,
      "outputs": []
    },
    {
      "cell_type": "code",
      "source": [
        "#while loop\n",
        "\n",
        "initial_speed=0\n",
        "final_speed=100\n",
        "count=1\n",
        "\n",
        "while initial_speed <= final_speed:\n",
        "    print(\"speed\")\n",
        "    count=count+1\n",
        "    if count==10:\n",
        "      break"
      ],
      "metadata": {
        "colab": {
          "base_uri": "https://localhost:8080/"
        },
        "id": "7Cs4gBpehNIo",
        "outputId": "cbd1df9f-968f-492a-89cd-30923ec69f4f"
      },
      "execution_count": null,
      "outputs": [
        {
          "output_type": "stream",
          "name": "stdout",
          "text": [
            "speed\n",
            "speed\n",
            "speed\n",
            "speed\n",
            "speed\n",
            "speed\n",
            "speed\n",
            "speed\n",
            "speed\n"
          ]
        }
      ]
    },
    {
      "cell_type": "code",
      "source": [
        "i = 1\n",
        "j = 5\n",
        "while i <j :\n",
        "    print(i)\n",
        "    i=i+1\n"
      ],
      "metadata": {
        "colab": {
          "base_uri": "https://localhost:8080/"
        },
        "id": "PAjJB7athTYD",
        "outputId": "788392f1-77f0-4f54-a7f7-f8a6f6892ba1"
      },
      "execution_count": null,
      "outputs": [
        {
          "output_type": "stream",
          "name": "stdout",
          "text": [
            "1\n",
            "2\n",
            "3\n",
            "4\n"
          ]
        }
      ]
    },
    {
      "cell_type": "code",
      "source": [
        "initial_speed=0\n",
        "final_speed=10\n",
        "\n",
        "while initial_speed < final_speed:\n",
        "    print(\"speed\")\n",
        "    initial_speed=initial_speed+1\n",
        "    "
      ],
      "metadata": {
        "colab": {
          "base_uri": "https://localhost:8080/"
        },
        "id": "Ppm7B2Jnjkr7",
        "outputId": "1b751233-aa57-4912-d4e6-9d5c0bc4a90e"
      },
      "execution_count": null,
      "outputs": [
        {
          "output_type": "stream",
          "name": "stdout",
          "text": [
            "speed\n",
            "speed\n",
            "speed\n",
            "speed\n",
            "speed\n",
            "speed\n",
            "speed\n",
            "speed\n",
            "speed\n",
            "speed\n"
          ]
        }
      ]
    },
    {
      "cell_type": "code",
      "source": [
        "notes=5\n",
        "i=1\n",
        "while i < notes:\n",
        "    print(i)\n",
        "    i += 1\n",
        "else:\n",
        "    print(\"no 10rs note is availabe\")"
      ],
      "metadata": {
        "colab": {
          "base_uri": "https://localhost:8080/"
        },
        "id": "xfKlBt6-j6tf",
        "outputId": "190c4c82-af31-423e-f1a0-0826a4129492"
      },
      "execution_count": null,
      "outputs": [
        {
          "output_type": "stream",
          "name": "stdout",
          "text": [
            "1\n",
            "2\n",
            "3\n",
            "4\n",
            "no 10rs note is availabe\n"
          ]
        }
      ]
    },
    {
      "cell_type": "code",
      "source": [
        "#while else statement\n",
        "\n",
        "notes=5\n",
        "i=1\n",
        "while i < notes:\n",
        "    print(i)\n",
        "    i =i+1\n",
        "else:\n",
        "    print(\"no 10rs note is availabe\")"
      ],
      "metadata": {
        "colab": {
          "base_uri": "https://localhost:8080/"
        },
        "id": "ewvx0B0nnuhI",
        "outputId": "05d73c7c-4116-4573-da09-8917170caf67"
      },
      "execution_count": null,
      "outputs": [
        {
          "output_type": "stream",
          "name": "stdout",
          "text": [
            "1\n",
            "2\n",
            "3\n",
            "4\n",
            "no 10rs note is availabe\n"
          ]
        }
      ]
    },
    {
      "cell_type": "code",
      "source": [
        "notes=5\n",
        "i=1\n",
        "j=1\n",
        "while i < notes:\n",
        "    print(i)\n",
        "    i =i+1\n",
        "else:\n",
        "    while j< 2:\n",
        "        print(i)\n",
        "        j=j+1\n",
        "    print(\"no 10rs note is availabe\")"
      ],
      "metadata": {
        "colab": {
          "base_uri": "https://localhost:8080/"
        },
        "id": "KzIR4jdHn-I4",
        "outputId": "2c8f48a3-157d-43ce-9b95-e363b83aaaf4"
      },
      "execution_count": null,
      "outputs": [
        {
          "output_type": "stream",
          "name": "stdout",
          "text": [
            "1\n",
            "2\n",
            "3\n",
            "4\n",
            "5\n",
            "no 10rs note is availabe\n"
          ]
        }
      ]
    },
    {
      "cell_type": "code",
      "source": [
        "s=\"picon\"\n",
        "\n"
      ],
      "metadata": {
        "id": "dFSR-UnEpJW2"
      },
      "execution_count": null,
      "outputs": []
    },
    {
      "cell_type": "code",
      "source": [
        "s"
      ],
      "metadata": {
        "colab": {
          "base_uri": "https://localhost:8080/",
          "height": 35
        },
        "id": "vBbiR1okqKTt",
        "outputId": "8fd83dad-2316-4ac6-f36f-68d985bcac69"
      },
      "execution_count": null,
      "outputs": [
        {
          "output_type": "execute_result",
          "data": {
            "text/plain": [
              "'picon'"
            ],
            "application/vnd.google.colaboratory.intrinsic+json": {
              "type": "string"
            }
          },
          "metadata": {},
          "execution_count": 57
        }
      ]
    },
    {
      "cell_type": "code",
      "source": [
        "s[0:5]"
      ],
      "metadata": {
        "colab": {
          "base_uri": "https://localhost:8080/",
          "height": 35
        },
        "id": "InpBsG5eqV5y",
        "outputId": "6eb49199-8de7-415d-8d6f-57849cc6be63"
      },
      "execution_count": null,
      "outputs": [
        {
          "output_type": "execute_result",
          "data": {
            "text/plain": [
              "'picon'"
            ],
            "application/vnd.google.colaboratory.intrinsic+json": {
              "type": "string"
            }
          },
          "metadata": {},
          "execution_count": 61
        }
      ]
    },
    {
      "cell_type": "code",
      "source": [
        "s=\"my name is snehansu\""
      ],
      "metadata": {
        "id": "iEjiZanQqa9g"
      },
      "execution_count": null,
      "outputs": []
    },
    {
      "cell_type": "code",
      "source": [
        "s[3:10]"
      ],
      "metadata": {
        "colab": {
          "base_uri": "https://localhost:8080/",
          "height": 35
        },
        "id": "SgMfyE4eqr8u",
        "outputId": "f2b34ee5-3f30-442f-837b-0b91b47470a9"
      },
      "execution_count": null,
      "outputs": [
        {
          "output_type": "execute_result",
          "data": {
            "text/plain": [
              "'name is'"
            ],
            "application/vnd.google.colaboratory.intrinsic+json": {
              "type": "string"
            }
          },
          "metadata": {},
          "execution_count": 66
        }
      ]
    },
    {
      "cell_type": "code",
      "source": [
        "s[0:20]"
      ],
      "metadata": {
        "colab": {
          "base_uri": "https://localhost:8080/",
          "height": 35
        },
        "id": "YHNP_w06q1O7",
        "outputId": "c82284dc-8a1e-41eb-e38d-191b04e1695d"
      },
      "execution_count": null,
      "outputs": [
        {
          "output_type": "execute_result",
          "data": {
            "text/plain": [
              "'my name is snehansu'"
            ],
            "application/vnd.google.colaboratory.intrinsic+json": {
              "type": "string"
            }
          },
          "metadata": {},
          "execution_count": 73
        }
      ]
    },
    {
      "cell_type": "code",
      "source": [
        "s[3:10:1]"
      ],
      "metadata": {
        "colab": {
          "base_uri": "https://localhost:8080/",
          "height": 35
        },
        "id": "nvSzblfAsBYv",
        "outputId": "a96ecd13-4c35-4f56-9d10-434ddae0d176"
      },
      "execution_count": null,
      "outputs": [
        {
          "output_type": "execute_result",
          "data": {
            "text/plain": [
              "'name is'"
            ],
            "application/vnd.google.colaboratory.intrinsic+json": {
              "type": "string"
            }
          },
          "metadata": {},
          "execution_count": 81
        }
      ]
    },
    {
      "cell_type": "code",
      "source": [
        "s[3:10:2]"
      ],
      "metadata": {
        "colab": {
          "base_uri": "https://localhost:8080/",
          "height": 35
        },
        "id": "nyhjmq7IsWCq",
        "outputId": "45409ffe-832b-4922-aa90-704d9016b6a9"
      },
      "execution_count": null,
      "outputs": [
        {
          "output_type": "execute_result",
          "data": {
            "text/plain": [
              "'nm s'"
            ],
            "application/vnd.google.colaboratory.intrinsic+json": {
              "type": "string"
            }
          },
          "metadata": {},
          "execution_count": 83
        }
      ]
    },
    {
      "cell_type": "code",
      "source": [
        "s[10:3:-1]"
      ],
      "metadata": {
        "colab": {
          "base_uri": "https://localhost:8080/",
          "height": 35
        },
        "id": "JgNIeed5tBIx",
        "outputId": "12597959-9a22-4b7b-fc08-15850187144d"
      },
      "execution_count": null,
      "outputs": [
        {
          "output_type": "execute_result",
          "data": {
            "text/plain": [
              "' si ema'"
            ],
            "application/vnd.google.colaboratory.intrinsic+json": {
              "type": "string"
            }
          },
          "metadata": {},
          "execution_count": 84
        }
      ]
    },
    {
      "cell_type": "code",
      "source": [
        "s[20:0:-1]"
      ],
      "metadata": {
        "colab": {
          "base_uri": "https://localhost:8080/",
          "height": 35
        },
        "id": "Rd-mvnvrumYz",
        "outputId": "22f266fe-9f02-4080-c6f7-cf70a092614f"
      },
      "execution_count": null,
      "outputs": [
        {
          "output_type": "execute_result",
          "data": {
            "text/plain": [
              "'usnahens si eman y'"
            ],
            "application/vnd.google.colaboratory.intrinsic+json": {
              "type": "string"
            }
          },
          "metadata": {},
          "execution_count": 88
        }
      ]
    },
    {
      "cell_type": "code",
      "source": [
        "s[20:0:-2]"
      ],
      "metadata": {
        "colab": {
          "base_uri": "https://localhost:8080/",
          "height": 35
        },
        "id": "Z5k3R_4Wup0F",
        "outputId": "abe79a44-0f2c-4c87-e9f4-0e4ee39b945f"
      },
      "execution_count": null,
      "outputs": [
        {
          "output_type": "execute_result",
          "data": {
            "text/plain": [
              "'unhn iea '"
            ],
            "application/vnd.google.colaboratory.intrinsic+json": {
              "type": "string"
            }
          },
          "metadata": {},
          "execution_count": 90
        }
      ]
    },
    {
      "cell_type": "code",
      "source": [
        "s[::-1]"
      ],
      "metadata": {
        "colab": {
          "base_uri": "https://localhost:8080/",
          "height": 35
        },
        "id": "rKr-EClBu4gt",
        "outputId": "6086bf49-beec-48b6-eb81-535d34f7265e"
      },
      "execution_count": null,
      "outputs": [
        {
          "output_type": "execute_result",
          "data": {
            "text/plain": [
              "'usnahens si eman ym'"
            ],
            "application/vnd.google.colaboratory.intrinsic+json": {
              "type": "string"
            }
          },
          "metadata": {},
          "execution_count": 91
        }
      ]
    },
    {
      "cell_type": "code",
      "source": [
        "s[0::]"
      ],
      "metadata": {
        "colab": {
          "base_uri": "https://localhost:8080/",
          "height": 35
        },
        "id": "FhDmvivWvCWM",
        "outputId": "72897f51-0e40-433b-e50f-33a73225e5b8"
      },
      "execution_count": null,
      "outputs": [
        {
          "output_type": "execute_result",
          "data": {
            "text/plain": [
              "'my name is snehansu'"
            ],
            "application/vnd.google.colaboratory.intrinsic+json": {
              "type": "string"
            }
          },
          "metadata": {},
          "execution_count": 93
        }
      ]
    },
    {
      "cell_type": "code",
      "source": [
        "s[2:-6]"
      ],
      "metadata": {
        "colab": {
          "base_uri": "https://localhost:8080/",
          "height": 35
        },
        "id": "M2eSAT6tvFJY",
        "outputId": "d01d2a67-7091-4fe7-e15a-992776acfccc"
      },
      "execution_count": null,
      "outputs": [
        {
          "output_type": "execute_result",
          "data": {
            "text/plain": [
              "' name is sn'"
            ],
            "application/vnd.google.colaboratory.intrinsic+json": {
              "type": "string"
            }
          },
          "metadata": {},
          "execution_count": 94
        }
      ]
    },
    {
      "cell_type": "code",
      "source": [
        "s[-6:2]"
      ],
      "metadata": {
        "colab": {
          "base_uri": "https://localhost:8080/",
          "height": 35
        },
        "id": "n6FtKUOivna5",
        "outputId": "0e3eb434-0171-4dc7-bbda-dd2b2c1443a8"
      },
      "execution_count": null,
      "outputs": [
        {
          "output_type": "execute_result",
          "data": {
            "text/plain": [
              "''"
            ],
            "application/vnd.google.colaboratory.intrinsic+json": {
              "type": "string"
            }
          },
          "metadata": {},
          "execution_count": 95
        }
      ]
    },
    {
      "cell_type": "code",
      "source": [
        "s"
      ],
      "metadata": {
        "colab": {
          "base_uri": "https://localhost:8080/",
          "height": 35
        },
        "id": "PhXZ62zLwqga",
        "outputId": "4db0ec03-6fda-4578-ab4c-244fbba345f4"
      },
      "execution_count": null,
      "outputs": [
        {
          "output_type": "execute_result",
          "data": {
            "text/plain": [
              "'my name is snehansu'"
            ],
            "application/vnd.google.colaboratory.intrinsic+json": {
              "type": "string"
            }
          },
          "metadata": {},
          "execution_count": 96
        }
      ]
    },
    {
      "cell_type": "code",
      "source": [
        "#for loop\n",
        "\n",
        "for j in s:\n",
        "   print(j)"
      ],
      "metadata": {
        "colab": {
          "base_uri": "https://localhost:8080/"
        },
        "id": "qupjSnrrxJ5n",
        "outputId": "22a796a1-d5d1-423e-d421-995e654444e8"
      },
      "execution_count": null,
      "outputs": [
        {
          "output_type": "stream",
          "name": "stdout",
          "text": [
            "m\n",
            "y\n",
            " \n",
            "n\n",
            "a\n",
            "m\n",
            "e\n",
            " \n",
            "i\n",
            "s\n",
            " \n",
            "s\n",
            "n\n",
            "e\n",
            "h\n",
            "a\n",
            "n\n",
            "s\n",
            "u\n"
          ]
        }
      ]
    },
    {
      "cell_type": "code",
      "source": [
        "#for loop\n",
        "\n",
        "for j in s:\n",
        "   if j == 's':\n",
        "      print(\"i got s as a string\")\n",
        "   print(j)"
      ],
      "metadata": {
        "colab": {
          "base_uri": "https://localhost:8080/"
        },
        "id": "Ocrwl3v2xVrk",
        "outputId": "7b438b64-d295-4930-8f10-e9715726a255"
      },
      "execution_count": null,
      "outputs": [
        {
          "output_type": "stream",
          "name": "stdout",
          "text": [
            "m\n",
            "y\n",
            " \n",
            "n\n",
            "a\n",
            "m\n",
            "e\n",
            " \n",
            "i\n",
            "i got s as a string\n",
            "s\n",
            " \n",
            "i got s as a string\n",
            "s\n",
            "n\n",
            "e\n",
            "h\n",
            "a\n",
            "n\n",
            "i got s as a string\n",
            "s\n",
            "u\n"
          ]
        }
      ]
    },
    {
      "cell_type": "code",
      "source": [
        "s"
      ],
      "metadata": {
        "colab": {
          "base_uri": "https://localhost:8080/",
          "height": 35
        },
        "id": "vXcOB4TtyWLW",
        "outputId": "e403bc16-517c-459e-d744-1c389b9cfec5"
      },
      "execution_count": null,
      "outputs": [
        {
          "output_type": "execute_result",
          "data": {
            "text/plain": [
              "'my name is snehansu'"
            ],
            "application/vnd.google.colaboratory.intrinsic+json": {
              "type": "string"
            }
          },
          "metadata": {},
          "execution_count": 110
        }
      ]
    },
    {
      "cell_type": "code",
      "source": [
        "for i in s:\n",
        "    print(i)\n",
        "else:\n",
        "    print(\"this is a else condition\")    "
      ],
      "metadata": {
        "colab": {
          "base_uri": "https://localhost:8080/"
        },
        "id": "T1k2c41I7rWG",
        "outputId": "ecb27656-7d7f-4437-f243-120329224825"
      },
      "execution_count": null,
      "outputs": [
        {
          "output_type": "stream",
          "name": "stdout",
          "text": [
            "m\n",
            "y\n",
            " \n",
            "n\n",
            "a\n",
            "m\n",
            "e\n",
            " \n",
            "i\n",
            "s\n",
            " \n",
            "s\n",
            "n\n",
            "e\n",
            "h\n",
            "a\n",
            "n\n",
            "s\n",
            "u\n",
            "this is a else condition\n"
          ]
        }
      ]
    },
    {
      "cell_type": "code",
      "source": [
        "for i in s:\n",
        "    if i=='a':\n",
        "        continue\n",
        "\n",
        "    print(i)\n",
        "else:\n",
        "    if i== 'u' :\n",
        "        print(\"print last character is u\")\n",
        "    print(\"this is a else condition\") "
      ],
      "metadata": {
        "colab": {
          "base_uri": "https://localhost:8080/"
        },
        "id": "KbSOUhdI74Zi",
        "outputId": "04ef812b-3b29-427d-9558-bbba9c7134e2"
      },
      "execution_count": null,
      "outputs": [
        {
          "output_type": "stream",
          "name": "stdout",
          "text": [
            "m\n",
            "y\n",
            " \n",
            "n\n",
            "m\n",
            "e\n",
            " \n",
            "i\n",
            "s\n",
            " \n",
            "s\n",
            "n\n",
            "e\n",
            "h\n",
            "n\n",
            "s\n",
            "u\n",
            "print last character is u\n",
            "this is a else condition\n"
          ]
        }
      ]
    },
    {
      "cell_type": "code",
      "source": [
        "n=20\n",
        "for i in range(0,n):\n",
        "    for j in range(0,i+1):\n",
        "          print(\"+\",end=\"\")\n",
        "    print(\"\\r\")    "
      ],
      "metadata": {
        "colab": {
          "base_uri": "https://localhost:8080/"
        },
        "id": "5fwBJECk8NTx",
        "outputId": "766e6f7c-c122-417d-d901-6f6fd15b4d83"
      },
      "execution_count": null,
      "outputs": [
        {
          "output_type": "stream",
          "name": "stdout",
          "text": [
            "+\r\n",
            "++\r\n",
            "+++\r\n",
            "++++\r\n",
            "+++++\r\n",
            "++++++\r\n",
            "+++++++\r\n",
            "++++++++\r\n",
            "+++++++++\r\n",
            "++++++++++\r\n",
            "+++++++++++\r\n",
            "++++++++++++\r\n",
            "+++++++++++++\r\n",
            "++++++++++++++\r\n",
            "+++++++++++++++\r\n",
            "++++++++++++++++\r\n",
            "+++++++++++++++++\r\n",
            "++++++++++++++++++\r\n",
            "+++++++++++++++++++\r\n",
            "++++++++++++++++++++\r\n"
          ]
        }
      ]
    },
    {
      "cell_type": "code",
      "source": [
        "s=\"inurion\"\n",
        "ss=\"\"\n",
        "for i in range(len(s)):\n",
        "    if s[i]==\"n\":\n",
        "      continue\n",
        "    else:\n",
        "        ss=ss+s[i]  \n"
      ],
      "metadata": {
        "id": "11PAP_LVBZtW"
      },
      "execution_count": null,
      "outputs": []
    },
    {
      "cell_type": "code",
      "source": [
        "ss\n"
      ],
      "metadata": {
        "colab": {
          "base_uri": "https://localhost:8080/",
          "height": 35
        },
        "id": "vsefCelvCzCu",
        "outputId": "459d1f70-914b-4b27-9983-d0df6733d45f"
      },
      "execution_count": null,
      "outputs": [
        {
          "output_type": "execute_result",
          "data": {
            "text/plain": [
              "'iurio'"
            ],
            "application/vnd.google.colaboratory.intrinsic+json": {
              "type": "string"
            }
          },
          "metadata": {},
          "execution_count": 132
        }
      ]
    },
    {
      "cell_type": "code",
      "source": [
        "n = 5\n",
        "m = 2 * n-2\n",
        "for i in range(n,-1,-1):\n",
        "    for j in range(m,0,-1):\n",
        "       print(end=\" \")\n",
        "    m = m + 1\n",
        "    for j in range(0 ,i + 1):\n",
        "        print(\" *\",end=\"\")\n",
        "    print(\"\") "
      ],
      "metadata": {
        "colab": {
          "base_uri": "https://localhost:8080/"
        },
        "id": "zQ-r3fRiC-nu",
        "outputId": "74e4e4ee-561c-4896-d7c2-0e95faa00e3a"
      },
      "execution_count": 4,
      "outputs": [
        {
          "output_type": "stream",
          "name": "stdout",
          "text": [
            "         * * * * * *\n",
            "          * * * * *\n",
            "           * * * *\n",
            "            * * *\n",
            "             * *\n",
            "              *\n"
          ]
        }
      ]
    },
    {
      "cell_type": "code",
      "source": [
        "n=9\n",
        "i=0\n",
        "while i<n:\n",
        "    print(\" \"*(n-i-1)+'*'*(i+1))\n",
        "    i+=1"
      ],
      "metadata": {
        "id": "ripi0VegFFAf",
        "outputId": "32799ad4-0e78-48e4-a48d-3c969c9b8bcf",
        "colab": {
          "base_uri": "https://localhost:8080/"
        }
      },
      "execution_count": null,
      "outputs": [
        {
          "output_type": "stream",
          "name": "stdout",
          "text": [
            "        *\n",
            "       **\n",
            "      ***\n",
            "     ****\n",
            "    *****\n",
            "   ******\n",
            "  *******\n",
            " ********\n",
            "*********\n"
          ]
        }
      ]
    },
    {
      "cell_type": "code",
      "source": [
        "n=int(input(\"enter number of rows required\"))\n",
        "\n",
        "for i in range(n,0,-1):\n",
        "    for j in range(n-i):\n",
        "        print(\" \",end=\"\")\n",
        "\n",
        "    for j in range(2*i-1):\n",
        "        print(\"*\",end=\"\")\n",
        "    print() "
      ],
      "metadata": {
        "id": "DeAHTQEkcUuN",
        "outputId": "38dd841f-724d-45fc-de4a-dab94d1c2c2a",
        "colab": {
          "base_uri": "https://localhost:8080/"
        }
      },
      "execution_count": 3,
      "outputs": [
        {
          "output_type": "stream",
          "name": "stdout",
          "text": [
            "enter number of rows required7\n",
            "*************\n",
            " ***********\n",
            "  *********\n",
            "   *******\n",
            "    *****\n",
            "     ***\n",
            "      *\n"
          ]
        }
      ]
    },
    {
      "cell_type": "code",
      "source": [
        "c=\"this is my first class for full stach data sciene that's why i have joined this class\""
      ],
      "metadata": {
        "id": "BBY2Sq7ZcZqn"
      },
      "execution_count": 5,
      "outputs": []
    },
    {
      "cell_type": "code",
      "source": [
        "c"
      ],
      "metadata": {
        "colab": {
          "base_uri": "https://localhost:8080/",
          "height": 35
        },
        "id": "a0vxRAUhmWqO",
        "outputId": "ce5d5797-dccc-4f14-d89c-795a8e59c25d"
      },
      "execution_count": 6,
      "outputs": [
        {
          "output_type": "execute_result",
          "data": {
            "text/plain": [
              "\"this is my first class for full stach data sciene that's why i have joined this class\""
            ],
            "application/vnd.google.colaboratory.intrinsic+json": {
              "type": "string"
            }
          },
          "metadata": {},
          "execution_count": 6
        }
      ]
    },
    {
      "cell_type": "code",
      "source": [
        "s=\"this is my first class\""
      ],
      "metadata": {
        "id": "kIkjkyMEmXe3"
      },
      "execution_count": 7,
      "outputs": []
    },
    {
      "cell_type": "code",
      "source": [
        "s[0]"
      ],
      "metadata": {
        "colab": {
          "base_uri": "https://localhost:8080/",
          "height": 35
        },
        "id": "WzuOSHrkma3Y",
        "outputId": "0ce4c0e7-d0ed-408c-b995-7ba569b973c2"
      },
      "execution_count": 8,
      "outputs": [
        {
          "output_type": "execute_result",
          "data": {
            "text/plain": [
              "'t'"
            ],
            "application/vnd.google.colaboratory.intrinsic+json": {
              "type": "string"
            }
          },
          "metadata": {},
          "execution_count": 8
        }
      ]
    },
    {
      "cell_type": "code",
      "source": [
        "s[-1]"
      ],
      "metadata": {
        "colab": {
          "base_uri": "https://localhost:8080/",
          "height": 35
        },
        "id": "oChgYZ9ImcNu",
        "outputId": "1db8d6e9-b8bb-4d45-c08d-beb8209a796f"
      },
      "execution_count": 9,
      "outputs": [
        {
          "output_type": "execute_result",
          "data": {
            "text/plain": [
              "'s'"
            ],
            "application/vnd.google.colaboratory.intrinsic+json": {
              "type": "string"
            }
          },
          "metadata": {},
          "execution_count": 9
        }
      ]
    },
    {
      "cell_type": "code",
      "source": [
        "len(s)"
      ],
      "metadata": {
        "colab": {
          "base_uri": "https://localhost:8080/"
        },
        "id": "0dYYm0RTmdtV",
        "outputId": "5289c917-5841-46b2-be9e-4e029a0e428c"
      },
      "execution_count": 10,
      "outputs": [
        {
          "output_type": "execute_result",
          "data": {
            "text/plain": [
              "22"
            ]
          },
          "metadata": {},
          "execution_count": 10
        }
      ]
    },
    {
      "cell_type": "code",
      "source": [
        "s[100]"
      ],
      "metadata": {
        "colab": {
          "base_uri": "https://localhost:8080/",
          "height": 165
        },
        "id": "Ln-LpysSmgFv",
        "outputId": "28ba3e72-b81f-4ee4-d7bd-bc5c25fa4b58"
      },
      "execution_count": 11,
      "outputs": [
        {
          "output_type": "error",
          "ename": "IndexError",
          "evalue": "ignored",
          "traceback": [
            "\u001b[0;31m---------------------------------------------------------------------------\u001b[0m",
            "\u001b[0;31mIndexError\u001b[0m                                Traceback (most recent call last)",
            "\u001b[0;32m<ipython-input-11-2a138df92e52>\u001b[0m in \u001b[0;36m<module>\u001b[0;34m()\u001b[0m\n\u001b[0;32m----> 1\u001b[0;31m \u001b[0ms\u001b[0m\u001b[0;34m[\u001b[0m\u001b[0;36m100\u001b[0m\u001b[0;34m]\u001b[0m\u001b[0;34m\u001b[0m\u001b[0;34m\u001b[0m\u001b[0m\n\u001b[0m",
            "\u001b[0;31mIndexError\u001b[0m: string index out of range"
          ]
        }
      ]
    },
    {
      "cell_type": "code",
      "source": [
        "s[4:10]"
      ],
      "metadata": {
        "colab": {
          "base_uri": "https://localhost:8080/",
          "height": 35
        },
        "id": "2lGb6UtPmmQI",
        "outputId": "def6dfbd-51d4-49e7-8495-980be51122f2"
      },
      "execution_count": 12,
      "outputs": [
        {
          "output_type": "execute_result",
          "data": {
            "text/plain": [
              "' is my'"
            ],
            "application/vnd.google.colaboratory.intrinsic+json": {
              "type": "string"
            }
          },
          "metadata": {},
          "execution_count": 12
        }
      ]
    },
    {
      "cell_type": "code",
      "source": [
        "s[4:10:1]"
      ],
      "metadata": {
        "colab": {
          "base_uri": "https://localhost:8080/",
          "height": 35
        },
        "id": "8l0hmlJHm6j8",
        "outputId": "a3e505f3-c702-4d8c-cb7d-f7bc7ae3c86c"
      },
      "execution_count": 13,
      "outputs": [
        {
          "output_type": "execute_result",
          "data": {
            "text/plain": [
              "' is my'"
            ],
            "application/vnd.google.colaboratory.intrinsic+json": {
              "type": "string"
            }
          },
          "metadata": {},
          "execution_count": 13
        }
      ]
    },
    {
      "cell_type": "code",
      "source": [
        "s[4:10:2]"
      ],
      "metadata": {
        "colab": {
          "base_uri": "https://localhost:8080/",
          "height": 35
        },
        "id": "7u9CLnpXnAGh",
        "outputId": "d481fae0-7c05-4d41-c3ca-7ee1ea304b0e"
      },
      "execution_count": 14,
      "outputs": [
        {
          "output_type": "execute_result",
          "data": {
            "text/plain": [
              "' sm'"
            ],
            "application/vnd.google.colaboratory.intrinsic+json": {
              "type": "string"
            }
          },
          "metadata": {},
          "execution_count": 14
        }
      ]
    },
    {
      "cell_type": "code",
      "source": [
        "s[:-1]"
      ],
      "metadata": {
        "colab": {
          "base_uri": "https://localhost:8080/",
          "height": 35
        },
        "id": "3DFNR5kbnCVA",
        "outputId": "092ab441-929c-4126-bbd2-adc2bc35c7bb"
      },
      "execution_count": 15,
      "outputs": [
        {
          "output_type": "execute_result",
          "data": {
            "text/plain": [
              "'this is my first clas'"
            ],
            "application/vnd.google.colaboratory.intrinsic+json": {
              "type": "string"
            }
          },
          "metadata": {},
          "execution_count": 15
        }
      ]
    },
    {
      "cell_type": "code",
      "source": [
        "s[::-1]"
      ],
      "metadata": {
        "colab": {
          "base_uri": "https://localhost:8080/",
          "height": 35
        },
        "id": "qxlqy0ctoAzF",
        "outputId": "c23e1ef9-efd2-4290-d1c1-0a0f9127d4f6"
      },
      "execution_count": 23,
      "outputs": [
        {
          "output_type": "execute_result",
          "data": {
            "text/plain": [
              "'ssalc tsrif ym si siht'"
            ],
            "application/vnd.google.colaboratory.intrinsic+json": {
              "type": "string"
            }
          },
          "metadata": {},
          "execution_count": 23
        }
      ]
    },
    {
      "cell_type": "code",
      "source": [
        "s[::-2]"
      ],
      "metadata": {
        "colab": {
          "base_uri": "https://localhost:8080/",
          "height": 35
        },
        "id": "D_ERO9zup0Ms",
        "outputId": "cbf252d9-e5b0-4ce6-ec95-d8a05ff6a14a"
      },
      "execution_count": 36,
      "outputs": [
        {
          "output_type": "execute_result",
          "data": {
            "text/plain": [
              "'sactrfy ish'"
            ],
            "application/vnd.google.colaboratory.intrinsic+json": {
              "type": "string"
            }
          },
          "metadata": {},
          "execution_count": 36
        }
      ]
    },
    {
      "cell_type": "code",
      "source": [
        "s[-1:-10:1]"
      ],
      "metadata": {
        "colab": {
          "base_uri": "https://localhost:8080/",
          "height": 35
        },
        "id": "ok1UOOAcnEdX",
        "outputId": "6c372c68-73d2-4a5b-a2ce-6dfef2a7e973"
      },
      "execution_count": 17,
      "outputs": [
        {
          "output_type": "execute_result",
          "data": {
            "text/plain": [
              "''"
            ],
            "application/vnd.google.colaboratory.intrinsic+json": {
              "type": "string"
            }
          },
          "metadata": {},
          "execution_count": 17
        }
      ]
    },
    {
      "cell_type": "code",
      "source": [
        "s[-1:-10:-1]"
      ],
      "metadata": {
        "colab": {
          "base_uri": "https://localhost:8080/",
          "height": 35
        },
        "id": "mtTw0xPqnI4g",
        "outputId": "0c18bf74-86fe-4aa9-8744-eeda755794c3"
      },
      "execution_count": 18,
      "outputs": [
        {
          "output_type": "execute_result",
          "data": {
            "text/plain": [
              "'ssalc tsr'"
            ],
            "application/vnd.google.colaboratory.intrinsic+json": {
              "type": "string"
            }
          },
          "metadata": {},
          "execution_count": 18
        }
      ]
    },
    {
      "cell_type": "code",
      "source": [
        "s"
      ],
      "metadata": {
        "colab": {
          "base_uri": "https://localhost:8080/",
          "height": 35
        },
        "id": "YpMOvMGHnTON",
        "outputId": "f322a026-dba4-477d-cbe8-ac146b51e1f1"
      },
      "execution_count": 19,
      "outputs": [
        {
          "output_type": "execute_result",
          "data": {
            "text/plain": [
              "'this is my first class'"
            ],
            "application/vnd.google.colaboratory.intrinsic+json": {
              "type": "string"
            }
          },
          "metadata": {},
          "execution_count": 19
        }
      ]
    },
    {
      "cell_type": "code",
      "source": [
        "for i in s:\n",
        "    print(i)"
      ],
      "metadata": {
        "colab": {
          "base_uri": "https://localhost:8080/"
        },
        "id": "yw4VjV3vnaYU",
        "outputId": "db142ca1-d68d-4301-ec6c-6900d2c8cdb7"
      },
      "execution_count": 20,
      "outputs": [
        {
          "output_type": "stream",
          "name": "stdout",
          "text": [
            "t\n",
            "h\n",
            "i\n",
            "s\n",
            " \n",
            "i\n",
            "s\n",
            " \n",
            "m\n",
            "y\n",
            " \n",
            "f\n",
            "i\n",
            "r\n",
            "s\n",
            "t\n",
            " \n",
            "c\n",
            "l\n",
            "a\n",
            "s\n",
            "s\n"
          ]
        }
      ]
    },
    {
      "cell_type": "code",
      "source": [
        "for i in range (len(s)):\n",
        "    print(s[::-1])"
      ],
      "metadata": {
        "colab": {
          "base_uri": "https://localhost:8080/"
        },
        "id": "n2oHvXP0ngK9",
        "outputId": "2174097b-19f9-488f-f669-d9ead261cd9c"
      },
      "execution_count": 25,
      "outputs": [
        {
          "output_type": "stream",
          "name": "stdout",
          "text": [
            "ssalc tsrif ym si siht\n",
            "ssalc tsrif ym si siht\n",
            "ssalc tsrif ym si siht\n",
            "ssalc tsrif ym si siht\n",
            "ssalc tsrif ym si siht\n",
            "ssalc tsrif ym si siht\n",
            "ssalc tsrif ym si siht\n",
            "ssalc tsrif ym si siht\n",
            "ssalc tsrif ym si siht\n",
            "ssalc tsrif ym si siht\n",
            "ssalc tsrif ym si siht\n",
            "ssalc tsrif ym si siht\n",
            "ssalc tsrif ym si siht\n",
            "ssalc tsrif ym si siht\n",
            "ssalc tsrif ym si siht\n",
            "ssalc tsrif ym si siht\n",
            "ssalc tsrif ym si siht\n",
            "ssalc tsrif ym si siht\n",
            "ssalc tsrif ym si siht\n",
            "ssalc tsrif ym si siht\n",
            "ssalc tsrif ym si siht\n",
            "ssalc tsrif ym si siht\n"
          ]
        }
      ]
    },
    {
      "cell_type": "code",
      "source": [
        "s[0]"
      ],
      "metadata": {
        "colab": {
          "base_uri": "https://localhost:8080/",
          "height": 35
        },
        "id": "iKTDYGRKnvQO",
        "outputId": "d71d9408-6d70-4a3c-89fd-150b46762d5c"
      },
      "execution_count": 26,
      "outputs": [
        {
          "output_type": "execute_result",
          "data": {
            "text/plain": [
              "'t'"
            ],
            "application/vnd.google.colaboratory.intrinsic+json": {
              "type": "string"
            }
          },
          "metadata": {},
          "execution_count": 26
        }
      ]
    },
    {
      "cell_type": "code",
      "source": [
        "s[0]=\"x\""
      ],
      "metadata": {
        "colab": {
          "base_uri": "https://localhost:8080/",
          "height": 165
        },
        "id": "Xygb37ELoSh_",
        "outputId": "d8ec2af4-0997-444e-d4fa-7c93f08b49d7"
      },
      "execution_count": 27,
      "outputs": [
        {
          "output_type": "error",
          "ename": "TypeError",
          "evalue": "ignored",
          "traceback": [
            "\u001b[0;31m---------------------------------------------------------------------------\u001b[0m",
            "\u001b[0;31mTypeError\u001b[0m                                 Traceback (most recent call last)",
            "\u001b[0;32m<ipython-input-27-291ad313d499>\u001b[0m in \u001b[0;36m<module>\u001b[0;34m()\u001b[0m\n\u001b[0;32m----> 1\u001b[0;31m \u001b[0ms\u001b[0m\u001b[0;34m[\u001b[0m\u001b[0;36m0\u001b[0m\u001b[0;34m]\u001b[0m\u001b[0;34m=\u001b[0m\u001b[0;34m\"x\"\u001b[0m\u001b[0;34m\u001b[0m\u001b[0;34m\u001b[0m\u001b[0m\n\u001b[0m",
            "\u001b[0;31mTypeError\u001b[0m: 'str' object does not support item assignment"
          ]
        }
      ]
    },
    {
      "cell_type": "code",
      "source": [
        "l=[\"diconjhgjh\",897979,78.87,True,False]"
      ],
      "metadata": {
        "id": "m11euyz4oXwl"
      },
      "execution_count": 28,
      "outputs": []
    },
    {
      "cell_type": "code",
      "source": [
        "l[0]"
      ],
      "metadata": {
        "colab": {
          "base_uri": "https://localhost:8080/",
          "height": 35
        },
        "id": "DmbBMoWuog63",
        "outputId": "9415edac-54be-49ba-e7d7-a1dd69aa2cec"
      },
      "execution_count": 29,
      "outputs": [
        {
          "output_type": "execute_result",
          "data": {
            "text/plain": [
              "'hfhgfhg'"
            ],
            "application/vnd.google.colaboratory.intrinsic+json": {
              "type": "string"
            }
          },
          "metadata": {},
          "execution_count": 29
        }
      ]
    },
    {
      "cell_type": "code",
      "source": [
        "l[0]=\"picon\""
      ],
      "metadata": {
        "id": "slB04GDlonNo"
      },
      "execution_count": 30,
      "outputs": []
    },
    {
      "cell_type": "code",
      "source": [
        "l"
      ],
      "metadata": {
        "colab": {
          "base_uri": "https://localhost:8080/"
        },
        "id": "LEoKvgXXotey",
        "outputId": "73978322-77e6-4371-96fd-efacd96cd074"
      },
      "execution_count": 31,
      "outputs": [
        {
          "output_type": "execute_result",
          "data": {
            "text/plain": [
              "['picon', 897979, 78.87, True, False]"
            ]
          },
          "metadata": {},
          "execution_count": 31
        }
      ]
    },
    {
      "cell_type": "code",
      "source": [
        "type(l[0])"
      ],
      "metadata": {
        "colab": {
          "base_uri": "https://localhost:8080/"
        },
        "id": "wg8J3Gf6ovB6",
        "outputId": "b45290fe-b2f2-4401-8b9b-ac419d1fb4f9"
      },
      "execution_count": 35,
      "outputs": [
        {
          "output_type": "execute_result",
          "data": {
            "text/plain": [
              "str"
            ]
          },
          "metadata": {},
          "execution_count": 35
        }
      ]
    },
    {
      "cell_type": "markdown",
      "source": [
        "#important notes\n",
        "\n",
        "mutability-list(item assignment is allowed)\n",
        "\n",
        "inmutability-string(string object does not supports item assignment)"
      ],
      "metadata": {
        "id": "bQyy-L4Ko-b9"
      }
    },
    {
      "cell_type": "code",
      "source": [
        "\"picon\"+\"kumar\""
      ],
      "metadata": {
        "colab": {
          "base_uri": "https://localhost:8080/",
          "height": 35
        },
        "id": "13KcYIUVputk",
        "outputId": "7cfc8e5b-c4ba-465d-a008-7176f3e2ef42"
      },
      "execution_count": 37,
      "outputs": [
        {
          "output_type": "execute_result",
          "data": {
            "text/plain": [
              "'piconkumar'"
            ],
            "application/vnd.google.colaboratory.intrinsic+json": {
              "type": "string"
            }
          },
          "metadata": {},
          "execution_count": 37
        }
      ]
    },
    {
      "cell_type": "code",
      "source": [
        "\"picon\"+3"
      ],
      "metadata": {
        "colab": {
          "base_uri": "https://localhost:8080/",
          "height": 165
        },
        "id": "ewYSrh3tqFw9",
        "outputId": "f66553a1-b0e8-4973-9fdd-417a27f62619"
      },
      "execution_count": 38,
      "outputs": [
        {
          "output_type": "error",
          "ename": "TypeError",
          "evalue": "ignored",
          "traceback": [
            "\u001b[0;31m---------------------------------------------------------------------------\u001b[0m",
            "\u001b[0;31mTypeError\u001b[0m                                 Traceback (most recent call last)",
            "\u001b[0;32m<ipython-input-38-02f595c8bbdc>\u001b[0m in \u001b[0;36m<module>\u001b[0;34m()\u001b[0m\n\u001b[0;32m----> 1\u001b[0;31m \u001b[0;34m\"picon\"\u001b[0m\u001b[0;34m+\u001b[0m\u001b[0;36m3\u001b[0m\u001b[0;34m\u001b[0m\u001b[0;34m\u001b[0m\u001b[0m\n\u001b[0m",
            "\u001b[0;31mTypeError\u001b[0m: can only concatenate str (not \"int\") to str"
          ]
        }
      ]
    },
    {
      "cell_type": "code",
      "source": [
        "\"picon\" + \"3\""
      ],
      "metadata": {
        "colab": {
          "base_uri": "https://localhost:8080/",
          "height": 35
        },
        "id": "6pgjviR7qI6F",
        "outputId": "16a19587-7da3-4fb5-a670-60a3566f09b7"
      },
      "execution_count": 39,
      "outputs": [
        {
          "output_type": "execute_result",
          "data": {
            "text/plain": [
              "'picon3'"
            ],
            "application/vnd.google.colaboratory.intrinsic+json": {
              "type": "string"
            }
          },
          "metadata": {},
          "execution_count": 39
        }
      ]
    },
    {
      "cell_type": "code",
      "source": [
        "\"picon\"+str(3)"
      ],
      "metadata": {
        "colab": {
          "base_uri": "https://localhost:8080/",
          "height": 35
        },
        "id": "MHkRCix6qPZB",
        "outputId": "7c9e6a4b-2ebe-4fe6-e468-1a1d8559b830"
      },
      "execution_count": 41,
      "outputs": [
        {
          "output_type": "execute_result",
          "data": {
            "text/plain": [
              "'picon3'"
            ],
            "application/vnd.google.colaboratory.intrinsic+json": {
              "type": "string"
            }
          },
          "metadata": {},
          "execution_count": 41
        }
      ]
    },
    {
      "cell_type": "code",
      "source": [
        "\"picon\"+[\"kumar\",3,4,56]"
      ],
      "metadata": {
        "colab": {
          "base_uri": "https://localhost:8080/",
          "height": 165
        },
        "id": "EulkMFH6qSzt",
        "outputId": "4c6ec4f8-2283-446b-8375-ee05e31d4886"
      },
      "execution_count": 42,
      "outputs": [
        {
          "output_type": "error",
          "ename": "TypeError",
          "evalue": "ignored",
          "traceback": [
            "\u001b[0;31m---------------------------------------------------------------------------\u001b[0m",
            "\u001b[0;31mTypeError\u001b[0m                                 Traceback (most recent call last)",
            "\u001b[0;32m<ipython-input-42-a2bc167a9166>\u001b[0m in \u001b[0;36m<module>\u001b[0;34m()\u001b[0m\n\u001b[0;32m----> 1\u001b[0;31m \u001b[0;34m\"picon\"\u001b[0m\u001b[0;34m+\u001b[0m\u001b[0;34m[\u001b[0m\u001b[0;34m\"kumar\"\u001b[0m\u001b[0;34m,\u001b[0m\u001b[0;36m3\u001b[0m\u001b[0;34m,\u001b[0m\u001b[0;36m4\u001b[0m\u001b[0;34m,\u001b[0m\u001b[0;36m56\u001b[0m\u001b[0;34m]\u001b[0m\u001b[0;34m\u001b[0m\u001b[0;34m\u001b[0m\u001b[0m\n\u001b[0m",
            "\u001b[0;31mTypeError\u001b[0m: can only concatenate str (not \"list\") to str"
          ]
        }
      ]
    },
    {
      "cell_type": "code",
      "source": [
        "\"picon\"*6"
      ],
      "metadata": {
        "colab": {
          "base_uri": "https://localhost:8080/",
          "height": 35
        },
        "id": "SLsYY-SqqcfG",
        "outputId": "0c5cfcef-6c93-410d-925a-05013bc219a5"
      },
      "execution_count": 44,
      "outputs": [
        {
          "output_type": "execute_result",
          "data": {
            "text/plain": [
              "'piconpiconpiconpiconpiconpicon'"
            ],
            "application/vnd.google.colaboratory.intrinsic+json": {
              "type": "string"
            }
          },
          "metadata": {},
          "execution_count": 44
        }
      ]
    },
    {
      "cell_type": "code",
      "source": [
        "s=\"my name is\""
      ],
      "metadata": {
        "id": "J4BEpi2qqew5"
      },
      "execution_count": 52,
      "outputs": []
    },
    {
      "cell_type": "code",
      "source": [
        "s.find(\"m\")"
      ],
      "metadata": {
        "colab": {
          "base_uri": "https://localhost:8080/"
        },
        "id": "KutufjHOqmqG",
        "outputId": "308c4885-0af6-4be6-df32-41758113405e"
      },
      "execution_count": 54,
      "outputs": [
        {
          "output_type": "execute_result",
          "data": {
            "text/plain": [
              "0"
            ]
          },
          "metadata": {},
          "execution_count": 54
        }
      ]
    },
    {
      "cell_type": "code",
      "source": [
        "# if string is not available then it show -1\n",
        "s.find(\"bmn\") "
      ],
      "metadata": {
        "colab": {
          "base_uri": "https://localhost:8080/"
        },
        "id": "8hbTDLhCrGaB",
        "outputId": "8adf20ca-5a03-4738-98dc-d4513e839ce3"
      },
      "execution_count": 56,
      "outputs": [
        {
          "output_type": "execute_result",
          "data": {
            "text/plain": [
              "-1"
            ]
          },
          "metadata": {},
          "execution_count": 56
        }
      ]
    },
    {
      "cell_type": "code",
      "source": [
        "s.find(\"name\")"
      ],
      "metadata": {
        "colab": {
          "base_uri": "https://localhost:8080/"
        },
        "id": "w9Hm1_B1r_o1",
        "outputId": "c9f64292-a005-467f-c1e0-7318586133e8"
      },
      "execution_count": 57,
      "outputs": [
        {
          "output_type": "execute_result",
          "data": {
            "text/plain": [
              "3"
            ]
          },
          "metadata": {},
          "execution_count": 57
        }
      ]
    },
    {
      "cell_type": "code",
      "source": [
        "s.find(\"my\")"
      ],
      "metadata": {
        "colab": {
          "base_uri": "https://localhost:8080/"
        },
        "id": "1dASVjEpsNCb",
        "outputId": "21e225ec-bea0-4b1f-ed16-6f26359a438a"
      },
      "execution_count": 58,
      "outputs": [
        {
          "output_type": "execute_result",
          "data": {
            "text/plain": [
              "0"
            ]
          },
          "metadata": {},
          "execution_count": 58
        }
      ]
    },
    {
      "cell_type": "code",
      "source": [
        "s=\"my name is picon kumar, name of org is sel\"\n",
        "\n"
      ],
      "metadata": {
        "id": "1jkqGu2DsU00"
      },
      "execution_count": 95,
      "outputs": []
    },
    {
      "cell_type": "code",
      "source": [
        "s.find(\"name\")"
      ],
      "metadata": {
        "colab": {
          "base_uri": "https://localhost:8080/"
        },
        "id": "oEryALjwulb1",
        "outputId": "60b1ca6c-2f1b-4464-a720-25047a36a6ad"
      },
      "execution_count": 73,
      "outputs": [
        {
          "output_type": "execute_result",
          "data": {
            "text/plain": [
              "3"
            ]
          },
          "metadata": {},
          "execution_count": 73
        }
      ]
    },
    {
      "cell_type": "code",
      "source": [
        "a=s.find(\"name\")\n",
        "for i in range(len(\"name\")):\n",
        "   print(a+i)"
      ],
      "metadata": {
        "colab": {
          "base_uri": "https://localhost:8080/"
        },
        "id": "djnKkFgYtkzL",
        "outputId": "012936c1-1087-404a-8716-307e1df6eb8f"
      },
      "execution_count": 71,
      "outputs": [
        {
          "output_type": "stream",
          "name": "stdout",
          "text": [
            "3\n",
            "4\n",
            "5\n",
            "6\n"
          ]
        }
      ]
    },
    {
      "cell_type": "code",
      "source": [
        "b=s.find(\"picon\")\n",
        "for i in range(len(\"picon\")):\n",
        "    print(b+i)"
      ],
      "metadata": {
        "colab": {
          "base_uri": "https://localhost:8080/"
        },
        "id": "rxM_KQZRukl4",
        "outputId": "d0193c2f-0d08-4bfc-f33f-88b21b205747"
      },
      "execution_count": 75,
      "outputs": [
        {
          "output_type": "stream",
          "name": "stdout",
          "text": [
            "11\n",
            "12\n",
            "13\n",
            "14\n",
            "15\n"
          ]
        }
      ]
    },
    {
      "cell_type": "code",
      "source": [
        "s"
      ],
      "metadata": {
        "colab": {
          "base_uri": "https://localhost:8080/",
          "height": 35
        },
        "id": "uD5Dajw8vWgk",
        "outputId": "d0bd9d3b-3c90-4132-ba0a-9ea59fd03084"
      },
      "execution_count": 96,
      "outputs": [
        {
          "output_type": "execute_result",
          "data": {
            "text/plain": [
              "'my name is picon kumar, name of org is sel'"
            ],
            "application/vnd.google.colaboratory.intrinsic+json": {
              "type": "string"
            }
          },
          "metadata": {},
          "execution_count": 96
        }
      ]
    },
    {
      "cell_type": "code",
      "source": [
        "s.count(\"m\")"
      ],
      "metadata": {
        "colab": {
          "base_uri": "https://localhost:8080/"
        },
        "id": "vxpeQb9evW7w",
        "outputId": "b36d6d01-9741-4eed-a344-3ea81999a4ee"
      },
      "execution_count": 77,
      "outputs": [
        {
          "output_type": "execute_result",
          "data": {
            "text/plain": [
              "4"
            ]
          },
          "metadata": {},
          "execution_count": 77
        }
      ]
    },
    {
      "cell_type": "code",
      "source": [
        "s.count(\"name\")"
      ],
      "metadata": {
        "colab": {
          "base_uri": "https://localhost:8080/"
        },
        "id": "8yZqz7qLvZsr",
        "outputId": "6de9251c-6440-4ae3-89b7-93d7fe317ce7"
      },
      "execution_count": 78,
      "outputs": [
        {
          "output_type": "execute_result",
          "data": {
            "text/plain": [
              "2"
            ]
          },
          "metadata": {},
          "execution_count": 78
        }
      ]
    },
    {
      "cell_type": "code",
      "source": [
        "s.split()"
      ],
      "metadata": {
        "colab": {
          "base_uri": "https://localhost:8080/"
        },
        "id": "SnYN2SRxveFk",
        "outputId": "d6faeebf-d40d-4de8-c8db-d4620cd6b355"
      },
      "execution_count": 81,
      "outputs": [
        {
          "output_type": "execute_result",
          "data": {
            "text/plain": [
              "['my', 'name', 'is', 'picon', 'kumar,', 'name', 'of', 'org', 'is', 'sel']"
            ]
          },
          "metadata": {},
          "execution_count": 81
        }
      ]
    },
    {
      "cell_type": "code",
      "source": [
        "s.split(\",\")"
      ],
      "metadata": {
        "colab": {
          "base_uri": "https://localhost:8080/"
        },
        "id": "Lbues0ubv7-4",
        "outputId": "699f3bf1-4d76-49ff-a076-ba0b31f4bc0e"
      },
      "execution_count": 82,
      "outputs": [
        {
          "output_type": "execute_result",
          "data": {
            "text/plain": [
              "['my name is picon kumar', ' name of org is sel']"
            ]
          },
          "metadata": {},
          "execution_count": 82
        }
      ]
    },
    {
      "cell_type": "code",
      "source": [
        "s.split(\"n\")"
      ],
      "metadata": {
        "colab": {
          "base_uri": "https://localhost:8080/"
        },
        "id": "DAa-AOa84eZJ",
        "outputId": "722def66-1c68-4949-9c67-94573a0f865a"
      },
      "execution_count": 83,
      "outputs": [
        {
          "output_type": "execute_result",
          "data": {
            "text/plain": [
              "['my ', 'ame is pico', ' kumar, ', 'ame of org is sel']"
            ]
          },
          "metadata": {},
          "execution_count": 83
        }
      ]
    },
    {
      "cell_type": "code",
      "source": [
        "s.split(\"na\")"
      ],
      "metadata": {
        "colab": {
          "base_uri": "https://localhost:8080/"
        },
        "id": "C4wwfUZi4tU2",
        "outputId": "b7661039-d89c-4c48-dddd-90f3d91c9bc3"
      },
      "execution_count": 84,
      "outputs": [
        {
          "output_type": "execute_result",
          "data": {
            "text/plain": [
              "['my ', 'me is picon kumar, ', 'me of org is sel']"
            ]
          },
          "metadata": {},
          "execution_count": 84
        }
      ]
    },
    {
      "cell_type": "code",
      "source": [
        "type(s.split(\"na\"))"
      ],
      "metadata": {
        "colab": {
          "base_uri": "https://localhost:8080/"
        },
        "id": "M9bdPKuN41Ig",
        "outputId": "3a65df77-31b8-4c85-c62c-611d319d9e70"
      },
      "execution_count": 85,
      "outputs": [
        {
          "output_type": "execute_result",
          "data": {
            "text/plain": [
              "list"
            ]
          },
          "metadata": {},
          "execution_count": 85
        }
      ]
    },
    {
      "cell_type": "code",
      "source": [
        "s"
      ],
      "metadata": {
        "colab": {
          "base_uri": "https://localhost:8080/",
          "height": 35
        },
        "id": "tY4ZRhkv46aE",
        "outputId": "c5995c0c-89ca-4ae1-964b-1478974f8b3f"
      },
      "execution_count": 97,
      "outputs": [
        {
          "output_type": "execute_result",
          "data": {
            "text/plain": [
              "'my name is picon kumar, name of org is sel'"
            ],
            "application/vnd.google.colaboratory.intrinsic+json": {
              "type": "string"
            }
          },
          "metadata": {},
          "execution_count": 97
        }
      ]
    },
    {
      "cell_type": "code",
      "source": [
        "s.upper()"
      ],
      "metadata": {
        "colab": {
          "base_uri": "https://localhost:8080/",
          "height": 35
        },
        "id": "zr7Wa5R74_XJ",
        "outputId": "adcb3ad4-8ceb-4138-a215-c35dbf832a4f"
      },
      "execution_count": 98,
      "outputs": [
        {
          "output_type": "execute_result",
          "data": {
            "text/plain": [
              "'MY NAME IS PICON KUMAR, NAME OF ORG IS SEL'"
            ],
            "application/vnd.google.colaboratory.intrinsic+json": {
              "type": "string"
            }
          },
          "metadata": {},
          "execution_count": 98
        }
      ]
    },
    {
      "cell_type": "code",
      "source": [
        "s.lower()"
      ],
      "metadata": {
        "colab": {
          "base_uri": "https://localhost:8080/",
          "height": 35
        },
        "id": "G_CfIJdX5SIT",
        "outputId": "8020d031-6696-42a7-88b9-18ecbcc2f24c"
      },
      "execution_count": 99,
      "outputs": [
        {
          "output_type": "execute_result",
          "data": {
            "text/plain": [
              "'my name is picon kumar, name of org is sel'"
            ],
            "application/vnd.google.colaboratory.intrinsic+json": {
              "type": "string"
            }
          },
          "metadata": {},
          "execution_count": 99
        }
      ]
    },
    {
      "cell_type": "code",
      "source": [
        "s.swapcase()"
      ],
      "metadata": {
        "colab": {
          "base_uri": "https://localhost:8080/",
          "height": 35
        },
        "id": "StpmJ-8U5VxE",
        "outputId": "6c826554-d33b-4e74-ac74-9a4c3ce1800d"
      },
      "execution_count": 100,
      "outputs": [
        {
          "output_type": "execute_result",
          "data": {
            "text/plain": [
              "'MY NAME IS PICON KUMAR, NAME OF ORG IS SEL'"
            ],
            "application/vnd.google.colaboratory.intrinsic+json": {
              "type": "string"
            }
          },
          "metadata": {},
          "execution_count": 100
        }
      ]
    },
    {
      "cell_type": "code",
      "source": [
        "\" \".join(s)"
      ],
      "metadata": {
        "colab": {
          "base_uri": "https://localhost:8080/",
          "height": 35
        },
        "id": "pzuJLEZ852a5",
        "outputId": "c1e5a5d6-66b2-40d4-bc8e-c1029de16028"
      },
      "execution_count": 105,
      "outputs": [
        {
          "output_type": "execute_result",
          "data": {
            "text/plain": [
              "'m y   n a m e   i s   p i c o n   k u m a r ,   n a m e   o f   o r g   i s   s e l'"
            ],
            "application/vnd.google.colaboratory.intrinsic+json": {
              "type": "string"
            }
          },
          "metadata": {},
          "execution_count": 105
        }
      ]
    },
    {
      "cell_type": "code",
      "source": [
        "reversed(s)"
      ],
      "metadata": {
        "colab": {
          "base_uri": "https://localhost:8080/"
        },
        "id": "rjkyXITM5-UM",
        "outputId": "675cf3c1-9d75-4715-e231-54ae0e6aa149"
      },
      "execution_count": 106,
      "outputs": [
        {
          "output_type": "execute_result",
          "data": {
            "text/plain": [
              "<reversed at 0x7f8da0d62990>"
            ]
          },
          "metadata": {},
          "execution_count": 106
        }
      ]
    },
    {
      "cell_type": "code",
      "source": [
        "list(reversed(s))"
      ],
      "metadata": {
        "colab": {
          "base_uri": "https://localhost:8080/"
        },
        "id": "-Q8X3md36X9W",
        "outputId": "012d4ce2-28a8-4616-94d5-b261ebf987d5"
      },
      "execution_count": 108,
      "outputs": [
        {
          "output_type": "execute_result",
          "data": {
            "text/plain": [
              "['l',\n",
              " 'e',\n",
              " 's',\n",
              " ' ',\n",
              " 's',\n",
              " 'i',\n",
              " ' ',\n",
              " 'g',\n",
              " 'r',\n",
              " 'o',\n",
              " ' ',\n",
              " 'f',\n",
              " 'o',\n",
              " ' ',\n",
              " 'e',\n",
              " 'm',\n",
              " 'a',\n",
              " 'n',\n",
              " ' ',\n",
              " ',',\n",
              " 'r',\n",
              " 'a',\n",
              " 'm',\n",
              " 'u',\n",
              " 'k',\n",
              " ' ',\n",
              " 'n',\n",
              " 'o',\n",
              " 'c',\n",
              " 'i',\n",
              " 'p',\n",
              " ' ',\n",
              " 's',\n",
              " 'i',\n",
              " ' ',\n",
              " 'e',\n",
              " 'm',\n",
              " 'a',\n",
              " 'n',\n",
              " ' ',\n",
              " 'y',\n",
              " 'm']"
            ]
          },
          "metadata": {},
          "execution_count": 108
        }
      ]
    },
    {
      "cell_type": "code",
      "source": [
        "for i in reversed(s):\n",
        "    print(i)"
      ],
      "metadata": {
        "colab": {
          "base_uri": "https://localhost:8080/"
        },
        "id": "eeZwtl7o6etl",
        "outputId": "230dc1a0-8c76-4a75-a2a7-402696439a01"
      },
      "execution_count": 110,
      "outputs": [
        {
          "output_type": "stream",
          "name": "stdout",
          "text": [
            "l\n",
            "e\n",
            "s\n",
            " \n",
            "s\n",
            "i\n",
            " \n",
            "g\n",
            "r\n",
            "o\n",
            " \n",
            "f\n",
            "o\n",
            " \n",
            "e\n",
            "m\n",
            "a\n",
            "n\n",
            " \n",
            ",\n",
            "r\n",
            "a\n",
            "m\n",
            "u\n",
            "k\n",
            " \n",
            "n\n",
            "o\n",
            "c\n",
            "i\n",
            "p\n",
            " \n",
            "s\n",
            "i\n",
            " \n",
            "e\n",
            "m\n",
            "a\n",
            "n\n",
            " \n",
            "y\n",
            "m\n"
          ]
        }
      ]
    },
    {
      "cell_type": "code",
      "source": [
        "s[::-1]"
      ],
      "metadata": {
        "colab": {
          "base_uri": "https://localhost:8080/",
          "height": 35
        },
        "id": "DIM1JU4M6NZh",
        "outputId": "1251d1b9-791f-4caf-a1ac-5e97e1d6d661"
      },
      "execution_count": 107,
      "outputs": [
        {
          "output_type": "execute_result",
          "data": {
            "text/plain": [
              "'les si gro fo eman ,ramuk nocip si eman ym'"
            ],
            "application/vnd.google.colaboratory.intrinsic+json": {
              "type": "string"
            }
          },
          "metadata": {},
          "execution_count": 107
        }
      ]
    },
    {
      "cell_type": "code",
      "source": [
        "s=\"    pic on    \""
      ],
      "metadata": {
        "id": "K8HOpgX96Rvm"
      },
      "execution_count": 117,
      "outputs": []
    },
    {
      "cell_type": "code",
      "source": [
        "s.strip()"
      ],
      "metadata": {
        "colab": {
          "base_uri": "https://localhost:8080/",
          "height": 35
        },
        "id": "KKyL-BW4LGyC",
        "outputId": "c862471c-4e47-4c8d-8486-c6ea780e23b9"
      },
      "execution_count": 118,
      "outputs": [
        {
          "output_type": "execute_result",
          "data": {
            "text/plain": [
              "'pic on'"
            ],
            "application/vnd.google.colaboratory.intrinsic+json": {
              "type": "string"
            }
          },
          "metadata": {},
          "execution_count": 118
        }
      ]
    },
    {
      "cell_type": "code",
      "source": [
        "s.lstrip()"
      ],
      "metadata": {
        "colab": {
          "base_uri": "https://localhost:8080/",
          "height": 35
        },
        "id": "VfPy--KvLIQS",
        "outputId": "db89036d-1d75-4224-8481-1f5036de01da"
      },
      "execution_count": 119,
      "outputs": [
        {
          "output_type": "execute_result",
          "data": {
            "text/plain": [
              "'pic on    '"
            ],
            "application/vnd.google.colaboratory.intrinsic+json": {
              "type": "string"
            }
          },
          "metadata": {},
          "execution_count": 119
        }
      ]
    },
    {
      "cell_type": "code",
      "source": [
        "s.rstrip()"
      ],
      "metadata": {
        "colab": {
          "base_uri": "https://localhost:8080/",
          "height": 35
        },
        "id": "h95a2mJlLSuF",
        "outputId": "7fda3a56-1ac2-45bf-cdf6-58357ad7b958"
      },
      "execution_count": 120,
      "outputs": [
        {
          "output_type": "execute_result",
          "data": {
            "text/plain": [
              "'    pic on'"
            ],
            "application/vnd.google.colaboratory.intrinsic+json": {
              "type": "string"
            }
          },
          "metadata": {},
          "execution_count": 120
        }
      ]
    },
    {
      "cell_type": "code",
      "source": [
        "s=\"greeting from sel\""
      ],
      "metadata": {
        "id": "BamN5yzcLiBR"
      },
      "execution_count": 121,
      "outputs": []
    },
    {
      "cell_type": "code",
      "source": [
        "s.replace(\"gr\",\"simple\")"
      ],
      "metadata": {
        "colab": {
          "base_uri": "https://localhost:8080/",
          "height": 35
        },
        "id": "kx4S5Un1Lyul",
        "outputId": "29da2934-f483-478f-8107-0e0c44a6fa41"
      },
      "execution_count": 124,
      "outputs": [
        {
          "output_type": "execute_result",
          "data": {
            "text/plain": [
              "'simpleeeting from sel'"
            ],
            "application/vnd.google.colaboratory.intrinsic+json": {
              "type": "string"
            }
          },
          "metadata": {},
          "execution_count": 124
        }
      ]
    },
    {
      "cell_type": "code",
      "source": [
        "s #string is inmutabilty object that is why i got my original data/string"
      ],
      "metadata": {
        "colab": {
          "base_uri": "https://localhost:8080/",
          "height": 35
        },
        "id": "xPDHRP__L3fE",
        "outputId": "3c7fc881-b9e6-4d1a-b272-d3b4679e9e6a"
      },
      "execution_count": 128,
      "outputs": [
        {
          "output_type": "execute_result",
          "data": {
            "text/plain": [
              "'greeting from sel'"
            ],
            "application/vnd.google.colaboratory.intrinsic+json": {
              "type": "string"
            }
          },
          "metadata": {},
          "execution_count": 128
        }
      ]
    },
    {
      "cell_type": "code",
      "source": [
        "s=s.replace(\"gr\",\"swap\")"
      ],
      "metadata": {
        "id": "9lWabsdaMEeZ"
      },
      "execution_count": 129,
      "outputs": []
    },
    {
      "cell_type": "code",
      "source": [
        "s #complte re-assignment operation to change \"s\""
      ],
      "metadata": {
        "colab": {
          "base_uri": "https://localhost:8080/",
          "height": 35
        },
        "id": "ZI4ykOCYMkh1",
        "outputId": "0d800a46-0dbc-4558-daea-ef2fb39a9771"
      },
      "execution_count": 131,
      "outputs": [
        {
          "output_type": "execute_result",
          "data": {
            "text/plain": [
              "'swapeeting from sel'"
            ],
            "application/vnd.google.colaboratory.intrinsic+json": {
              "type": "string"
            }
          },
          "metadata": {},
          "execution_count": 131
        }
      ]
    },
    {
      "cell_type": "code",
      "source": [
        "s= \"picon\""
      ],
      "metadata": {
        "id": "-C-Br1IsMlK7"
      },
      "execution_count": 132,
      "outputs": []
    },
    {
      "cell_type": "code",
      "source": [
        "s.center(15,'*')"
      ],
      "metadata": {
        "colab": {
          "base_uri": "https://localhost:8080/",
          "height": 35
        },
        "id": "bhUiPo6PObSW",
        "outputId": "dab98e1a-9e6f-4803-8cb4-082f0129b598"
      },
      "execution_count": 141,
      "outputs": [
        {
          "output_type": "execute_result",
          "data": {
            "text/plain": [
              "'*****picon*****'"
            ],
            "application/vnd.google.colaboratory.intrinsic+json": {
              "type": "string"
            }
          },
          "metadata": {},
          "execution_count": 141
        }
      ]
    },
    {
      "cell_type": "code",
      "source": [
        "s=\"picon\\tku\\tmar\""
      ],
      "metadata": {
        "id": "n9qV-1ClOgel"
      },
      "execution_count": 145,
      "outputs": []
    },
    {
      "cell_type": "code",
      "source": [
        "s"
      ],
      "metadata": {
        "colab": {
          "base_uri": "https://localhost:8080/",
          "height": 35
        },
        "id": "EzgVaNonPGJM",
        "outputId": "7b868b19-895d-4db8-ef22-261403004808"
      },
      "execution_count": 146,
      "outputs": [
        {
          "output_type": "execute_result",
          "data": {
            "text/plain": [
              "'picon\\tku\\tmar'"
            ],
            "application/vnd.google.colaboratory.intrinsic+json": {
              "type": "string"
            }
          },
          "metadata": {},
          "execution_count": 146
        }
      ]
    },
    {
      "cell_type": "code",
      "source": [
        "s.expandtabs() #replace with tabs = \\t"
      ],
      "metadata": {
        "colab": {
          "base_uri": "https://localhost:8080/",
          "height": 35
        },
        "id": "hpQR0Wc0PGvz",
        "outputId": "b09089f8-309a-4c40-e9e1-4a29f674053d"
      },
      "execution_count": 164,
      "outputs": [
        {
          "output_type": "execute_result",
          "data": {
            "text/plain": [
              "'picon   ku      mar'"
            ],
            "application/vnd.google.colaboratory.intrinsic+json": {
              "type": "string"
            }
          },
          "metadata": {},
          "execution_count": 164
        }
      ]
    },
    {
      "cell_type": "code",
      "source": [
        "a=\"we all are a part of full stack\"\n",
        "#1.Normalize all the string in lower case\n",
        "b=a.lower()\n",
        "print(b)\n",
        "#2.find the number of occurences of 'a' in entire data\n",
        "c=a.count(\"a\")\n",
        "print (\"the count of a is\",c)\n",
        "#3.find all the location/index of 'a' in string\n",
        "for i in range(len(a)):\n",
        "    if(a[i]==\"a\"):\n",
        "        print(i)\n",
        "#4.replace all the 'a' with 'iNueurion'        \n",
        "d=a.replace(\"a\",\"iNueurion\")\n",
        "print(d)\n",
        "#5.print all the word as a list\n",
        "e=a.split()\n",
        "print(e)        "
      ],
      "metadata": {
        "colab": {
          "base_uri": "https://localhost:8080/"
        },
        "id": "BRBYEduLRdzB",
        "outputId": "2fa714e5-85dd-4620-bbd5-c591834a9e4b"
      },
      "execution_count": 169,
      "outputs": [
        {
          "output_type": "stream",
          "name": "stdout",
          "text": [
            "we all are a part of full stack\n",
            "the count of a is 5\n",
            "3\n",
            "7\n",
            "11\n",
            "14\n",
            "28\n",
            "we iNueurionll iNueurionre iNueurion piNueurionrt of full stiNueurionck\n",
            "['we', 'all', 'are', 'a', 'part', 'of', 'full', 'stack']\n"
          ]
        }
      ]
    },
    {
      "cell_type": "code",
      "source": [
        "s=\"PICON\""
      ],
      "metadata": {
        "id": "V14och2OSOdC"
      },
      "execution_count": 179,
      "outputs": []
    },
    {
      "cell_type": "code",
      "source": [
        "s.isupper()"
      ],
      "metadata": {
        "colab": {
          "base_uri": "https://localhost:8080/"
        },
        "id": "d0hZB0ZwVR6F",
        "outputId": "bc5241b1-8b4d-4424-ffdf-be338304fd8b"
      },
      "execution_count": 173,
      "outputs": [
        {
          "output_type": "execute_result",
          "data": {
            "text/plain": [
              "True"
            ]
          },
          "metadata": {},
          "execution_count": 173
        }
      ]
    },
    {
      "cell_type": "code",
      "source": [
        "s.islower()"
      ],
      "metadata": {
        "colab": {
          "base_uri": "https://localhost:8080/"
        },
        "id": "G-0eazLlVc9V",
        "outputId": "bbc6203a-ef60-4cb2-8cd4-63c9068b2cab"
      },
      "execution_count": 174,
      "outputs": [
        {
          "output_type": "execute_result",
          "data": {
            "text/plain": [
              "False"
            ]
          },
          "metadata": {},
          "execution_count": 174
        }
      ]
    },
    {
      "cell_type": "code",
      "source": [
        "s.isnumeric()"
      ],
      "metadata": {
        "colab": {
          "base_uri": "https://localhost:8080/"
        },
        "id": "4EyAGutaVoNu",
        "outputId": "9dd0646d-6157-46b2-e87d-778ac21f9075"
      },
      "execution_count": 175,
      "outputs": [
        {
          "output_type": "execute_result",
          "data": {
            "text/plain": [
              "False"
            ]
          },
          "metadata": {},
          "execution_count": 175
        }
      ]
    },
    {
      "cell_type": "code",
      "source": [
        "s.istitle"
      ],
      "metadata": {
        "colab": {
          "base_uri": "https://localhost:8080/"
        },
        "id": "KkuAnWtFVr1p",
        "outputId": "fd75ac08-5fbe-49da-d5d0-0458ebcf6ebc"
      },
      "execution_count": 176,
      "outputs": [
        {
          "output_type": "execute_result",
          "data": {
            "text/plain": [
              "<function str.istitle>"
            ]
          },
          "metadata": {},
          "execution_count": 176
        }
      ]
    },
    {
      "cell_type": "code",
      "source": [
        "s.isspace()"
      ],
      "metadata": {
        "colab": {
          "base_uri": "https://localhost:8080/"
        },
        "id": "U1_kf9PPVwLe",
        "outputId": "6355d709-d833-4a2d-ceb9-538504e1566a"
      },
      "execution_count": 180,
      "outputs": [
        {
          "output_type": "execute_result",
          "data": {
            "text/plain": [
              "False"
            ]
          },
          "metadata": {},
          "execution_count": 180
        }
      ]
    },
    {
      "cell_type": "code",
      "source": [
        "s.isdigit()"
      ],
      "metadata": {
        "colab": {
          "base_uri": "https://localhost:8080/"
        },
        "id": "bN33id9VV1o1",
        "outputId": "12955f1f-2f2a-4034-ddc1-6191d03f9442"
      },
      "execution_count": 181,
      "outputs": [
        {
          "output_type": "execute_result",
          "data": {
            "text/plain": [
              "False"
            ]
          },
          "metadata": {},
          "execution_count": 181
        }
      ]
    },
    {
      "cell_type": "code",
      "source": [
        "s.endswith('N')"
      ],
      "metadata": {
        "colab": {
          "base_uri": "https://localhost:8080/"
        },
        "id": "T5IliFezWEYx",
        "outputId": "2b023286-a66d-4f97-b66a-b99ad23870c7"
      },
      "execution_count": 184,
      "outputs": [
        {
          "output_type": "execute_result",
          "data": {
            "text/plain": [
              "True"
            ]
          },
          "metadata": {},
          "execution_count": 184
        }
      ]
    },
    {
      "cell_type": "code",
      "source": [
        "s.startswith('p')"
      ],
      "metadata": {
        "colab": {
          "base_uri": "https://localhost:8080/"
        },
        "id": "EPNJ5s94WJTs",
        "outputId": "6c514f2b-97cd-49da-ada6-21503c80a89e"
      },
      "execution_count": 186,
      "outputs": [
        {
          "output_type": "execute_result",
          "data": {
            "text/plain": [
              "False"
            ]
          },
          "metadata": {},
          "execution_count": 186
        }
      ]
    },
    {
      "cell_type": "code",
      "source": [
        "s.isalnum() #in mix case is also give true #only numeric is true # only alphabatic is also true"
      ],
      "metadata": {
        "colab": {
          "base_uri": "https://localhost:8080/"
        },
        "id": "Sz12AsUvWVT4",
        "outputId": "29a0a2d9-6a03-4fc1-c4d2-b9b1e5e7e8ab"
      },
      "execution_count": 188,
      "outputs": [
        {
          "output_type": "execute_result",
          "data": {
            "text/plain": [
              "True"
            ]
          },
          "metadata": {},
          "execution_count": 188
        }
      ]
    },
    {
      "cell_type": "code",
      "source": [
        "s.isalpha()#only alphabatic charcter is true"
      ],
      "metadata": {
        "colab": {
          "base_uri": "https://localhost:8080/"
        },
        "id": "ki4j6njmWdtf",
        "outputId": "e3863c50-d24a-4f5d-9f00-cc5482e0aaa9"
      },
      "execution_count": 190,
      "outputs": [
        {
          "output_type": "execute_result",
          "data": {
            "text/plain": [
              "True"
            ]
          },
          "metadata": {},
          "execution_count": 190
        }
      ]
    },
    {
      "cell_type": "code",
      "source": [
        "s.istitle() #if 1st letter is upper then it is true or else false"
      ],
      "metadata": {
        "colab": {
          "base_uri": "https://localhost:8080/"
        },
        "id": "4mzcYorwWt8y",
        "outputId": "d8daa4ee-b26a-4020-a5ef-13abdd216f4c"
      },
      "execution_count": 193,
      "outputs": [
        {
          "output_type": "execute_result",
          "data": {
            "text/plain": [
              "False"
            ]
          },
          "metadata": {},
          "execution_count": 193
        }
      ]
    },
    {
      "cell_type": "code",
      "source": [
        "s=\"this is a full stack batch\"\n"
      ],
      "metadata": {
        "id": "KwF-jnCtXNjU"
      },
      "execution_count": 198,
      "outputs": []
    },
    {
      "cell_type": "code",
      "source": [
        "len(s)"
      ],
      "metadata": {
        "colab": {
          "base_uri": "https://localhost:8080/"
        },
        "id": "LSYJFisxZq7O",
        "outputId": "d671b753-fcf6-4a2a-a23b-1d3a5c47585c"
      },
      "execution_count": 199,
      "outputs": [
        {
          "output_type": "execute_result",
          "data": {
            "text/plain": [
              "26"
            ]
          },
          "metadata": {},
          "execution_count": 199
        }
      ]
    },
    {
      "cell_type": "code",
      "source": [
        "for i in s:\n",
        "    print(i)"
      ],
      "metadata": {
        "colab": {
          "base_uri": "https://localhost:8080/"
        },
        "id": "UrKsY-PUZjp2",
        "outputId": "638d53df-c01b-4f85-8504-37d530aca05d"
      },
      "execution_count": 200,
      "outputs": [
        {
          "output_type": "stream",
          "name": "stdout",
          "text": [
            "t\n",
            "h\n",
            "i\n",
            "s\n",
            " \n",
            "i\n",
            "s\n",
            " \n",
            "a\n",
            " \n",
            "f\n",
            "u\n",
            "l\n",
            "l\n",
            " \n",
            "s\n",
            "t\n",
            "a\n",
            "c\n",
            "k\n",
            " \n",
            "b\n",
            "a\n",
            "t\n",
            "c\n",
            "h\n"
          ]
        }
      ]
    },
    {
      "cell_type": "code",
      "source": [
        "count=0\n",
        "for i in s:\n",
        "    count=count+1\n",
        "print(count)    "
      ],
      "metadata": {
        "colab": {
          "base_uri": "https://localhost:8080/"
        },
        "id": "3kBswXVQZnIk",
        "outputId": "37fabd68-0c90-43bb-88ef-649ee517d617"
      },
      "execution_count": 201,
      "outputs": [
        {
          "output_type": "stream",
          "name": "stdout",
          "text": [
            "26\n"
          ]
        }
      ]
    },
    {
      "cell_type": "code",
      "source": [
        "for i in range(len(s)):\n",
        "    print(s[i])"
      ],
      "metadata": {
        "colab": {
          "base_uri": "https://localhost:8080/"
        },
        "id": "vj2aQp48aDfC",
        "outputId": "b9dd4e80-ac07-4cbc-a0b5-607a85c403c8"
      },
      "execution_count": 202,
      "outputs": [
        {
          "output_type": "stream",
          "name": "stdout",
          "text": [
            "t\n",
            "h\n",
            "i\n",
            "s\n",
            " \n",
            "i\n",
            "s\n",
            " \n",
            "a\n",
            " \n",
            "f\n",
            "u\n",
            "l\n",
            "l\n",
            " \n",
            "s\n",
            "t\n",
            "a\n",
            "c\n",
            "k\n",
            " \n",
            "b\n",
            "a\n",
            "t\n",
            "c\n",
            "h\n"
          ]
        }
      ]
    },
    {
      "cell_type": "code",
      "source": [
        "for i in range(1,len(s)):\n",
        "    print(s[-i])"
      ],
      "metadata": {
        "colab": {
          "base_uri": "https://localhost:8080/"
        },
        "id": "lbYEBPGEaVHI",
        "outputId": "008b3a76-c526-43d6-9a86-fde0d8ce1907"
      },
      "execution_count": 204,
      "outputs": [
        {
          "output_type": "stream",
          "name": "stdout",
          "text": [
            "h\n",
            "c\n",
            "t\n",
            "a\n",
            "b\n",
            " \n",
            "k\n",
            "c\n",
            "a\n",
            "t\n",
            "s\n",
            " \n",
            "l\n",
            "l\n",
            "u\n",
            "f\n",
            " \n",
            "a\n",
            " \n",
            "s\n",
            "i\n",
            " \n",
            "s\n",
            "i\n",
            "h\n"
          ]
        }
      ]
    },
    {
      "cell_type": "code",
      "source": [
        "s=\"picon\"  #reverse the string with the use while loop\n",
        "ch = len(s)-1\n",
        "while ch>=0:\n",
        "    print(s[ch])\n",
        "    ch = ch-1"
      ],
      "metadata": {
        "colab": {
          "base_uri": "https://localhost:8080/"
        },
        "id": "cOsvC-mMaa1d",
        "outputId": "578cb41d-993c-4b5f-c264-c71591c86c92"
      },
      "execution_count": 207,
      "outputs": [
        {
          "output_type": "stream",
          "name": "stdout",
          "text": [
            "n\n",
            "o\n",
            "c\n",
            "i\n",
            "p\n"
          ]
        }
      ]
    },
    {
      "cell_type": "code",
      "source": [
        "name=\"iNuerion\"\n",
        "vowels=\"AaEeIiOoUu\"\n",
        "\n",
        "for i in name:\n",
        "    if i in vowels:\n",
        "        print(\"{}this is a  vowel\".format(i))\n",
        "    else:\n",
        "        print(\"{}is not a vowel\".format(i))    "
      ],
      "metadata": {
        "colab": {
          "base_uri": "https://localhost:8080/"
        },
        "id": "l9RYkgWpbdCB",
        "outputId": "82d3535c-b48a-45cf-a1fd-ba35e41a3dfe"
      },
      "execution_count": 210,
      "outputs": [
        {
          "output_type": "stream",
          "name": "stdout",
          "text": [
            "i this is a  vowel\n",
            "Nis not a vowel\n",
            "u this is a  vowel\n",
            "e this is a  vowel\n",
            "ris not a vowel\n",
            "i this is a  vowel\n",
            "o this is a  vowel\n",
            "nis not a vowel\n"
          ]
        }
      ]
    },
    {
      "cell_type": "code",
      "source": [
        "\"{} name is picon\".format(\"my\") #{} is replace by my"
      ],
      "metadata": {
        "colab": {
          "base_uri": "https://localhost:8080/",
          "height": 35
        },
        "id": "wr9UlPPFcUBu",
        "outputId": "57ce2def-c3ea-4f75-aa47-03070c2a3927"
      },
      "execution_count": 213,
      "outputs": [
        {
          "output_type": "execute_result",
          "data": {
            "text/plain": [
              "'my name is picon'"
            ],
            "application/vnd.google.colaboratory.intrinsic+json": {
              "type": "string"
            }
          },
          "metadata": {},
          "execution_count": 213
        }
      ]
    },
    {
      "cell_type": "code",
      "source": [
        "\"{} name {} picon\".format(\"my\",\"is\") #{} is replace by my & is"
      ],
      "metadata": {
        "colab": {
          "base_uri": "https://localhost:8080/",
          "height": 35
        },
        "id": "ZAhFBMvTgQT6",
        "outputId": "610bdf9c-3447-4f07-94de-a20d3d6df07d"
      },
      "execution_count": 215,
      "outputs": [
        {
          "output_type": "execute_result",
          "data": {
            "text/plain": [
              "'my name is picon'"
            ],
            "application/vnd.google.colaboratory.intrinsic+json": {
              "type": "string"
            }
          },
          "metadata": {},
          "execution_count": 215
        }
      ]
    },
    {
      "cell_type": "code",
      "source": [
        "a=input()\n",
        "b=input()\n",
        "c=input()"
      ],
      "metadata": {
        "colab": {
          "base_uri": "https://localhost:8080/"
        },
        "id": "ClK9SYC_g8hJ",
        "outputId": "7998eca0-327b-4e51-f8c3-3e90d417362e"
      },
      "execution_count": 223,
      "outputs": [
        {
          "name": "stdout",
          "output_type": "stream",
          "text": [
            "ok\n",
            "k\n",
            "ok\n"
          ]
        }
      ]
    },
    {
      "cell_type": "code",
      "source": [
        "\n",
        "\"{} name {} picon {} \".format(a,b,c)\n",
        "\n"
      ],
      "metadata": {
        "colab": {
          "base_uri": "https://localhost:8080/",
          "height": 35
        },
        "id": "n53lCWkVgfk3",
        "outputId": "1ca7542e-5e49-4a4d-cad5-58e5241ac84f"
      },
      "execution_count": 224,
      "outputs": [
        {
          "output_type": "execute_result",
          "data": {
            "text/plain": [
              "'ok name k picon ok '"
            ],
            "application/vnd.google.colaboratory.intrinsic+json": {
              "type": "string"
            }
          },
          "metadata": {},
          "execution_count": 224
        }
      ]
    },
    {
      "cell_type": "code",
      "source": [
        "\"{} name {} picon {} \".format(a,b,\"okok\")"
      ],
      "metadata": {
        "colab": {
          "base_uri": "https://localhost:8080/",
          "height": 35
        },
        "id": "Z8zqtzzThD6q",
        "outputId": "4ad795ab-6839-4e04-cba8-a2a227c2262d"
      },
      "execution_count": 225,
      "outputs": [
        {
          "output_type": "execute_result",
          "data": {
            "text/plain": [
              "'ok name k picon okok '"
            ],
            "application/vnd.google.colaboratory.intrinsic+json": {
              "type": "string"
            }
          },
          "metadata": {},
          "execution_count": 225
        }
      ]
    },
    {
      "cell_type": "code",
      "source": [
        "#pelindrum\n",
        "\n",
        "a=\"xyx\"\n",
        "b=2002\n",
        "c=\"eye\"\n",
        "d=\"nitin\""
      ],
      "metadata": {
        "id": "AztqS85Mhuar"
      },
      "execution_count": 227,
      "outputs": []
    },
    {
      "cell_type": "code",
      "source": [
        "s=input(\"enter a data for which you would like to check pelindrum\")\n",
        "s1=s[::-1]\n",
        "if s==s1:\n",
        "    print(\"it is same\")\n",
        "else:\n",
        "    print(\"it is not same\")    "
      ],
      "metadata": {
        "colab": {
          "base_uri": "https://localhost:8080/"
        },
        "id": "mLp3y8cuh6zP",
        "outputId": "34462f26-5dde-49bc-8dd2-23e290797b23"
      },
      "execution_count": 228,
      "outputs": [
        {
          "output_type": "stream",
          "name": "stdout",
          "text": [
            "enter a data for which you would like to check pelindrummom\n",
            "it is same\n"
          ]
        }
      ]
    },
    {
      "cell_type": "code",
      "source": [
        "#list manipulation\n",
        "\n",
        "l=[\"picon\",34,34,45,[34,45]]\n",
        "\n"
      ],
      "metadata": {
        "id": "BN9uyUjkioKm"
      },
      "execution_count": 229,
      "outputs": []
    },
    {
      "cell_type": "code",
      "source": [
        "l[0]"
      ],
      "metadata": {
        "colab": {
          "base_uri": "https://localhost:8080/",
          "height": 35
        },
        "id": "WVCfUJLGj7bK",
        "outputId": "4d8510eb-a687-4970-98ab-724232086685"
      },
      "execution_count": 230,
      "outputs": [
        {
          "output_type": "execute_result",
          "data": {
            "text/plain": [
              "'picon'"
            ],
            "application/vnd.google.colaboratory.intrinsic+json": {
              "type": "string"
            }
          },
          "metadata": {},
          "execution_count": 230
        }
      ]
    },
    {
      "cell_type": "code",
      "source": [
        "l[1]"
      ],
      "metadata": {
        "colab": {
          "base_uri": "https://localhost:8080/"
        },
        "id": "P-TLfQ3Tj912",
        "outputId": "5ca1bf0e-a3ee-42ee-aff9-dfae756d1baf"
      },
      "execution_count": 231,
      "outputs": [
        {
          "output_type": "execute_result",
          "data": {
            "text/plain": [
              "34"
            ]
          },
          "metadata": {},
          "execution_count": 231
        }
      ]
    },
    {
      "cell_type": "code",
      "source": [
        "l[0:3]"
      ],
      "metadata": {
        "colab": {
          "base_uri": "https://localhost:8080/"
        },
        "id": "CkCdtMudj_Ql",
        "outputId": "2388cc3b-b1ab-4222-cad4-158b0c9e1e4d"
      },
      "execution_count": 233,
      "outputs": [
        {
          "output_type": "execute_result",
          "data": {
            "text/plain": [
              "['picon', 34, 34]"
            ]
          },
          "metadata": {},
          "execution_count": 233
        }
      ]
    },
    {
      "cell_type": "code",
      "source": [
        "l[::-1]"
      ],
      "metadata": {
        "colab": {
          "base_uri": "https://localhost:8080/"
        },
        "id": "mr2eL2xVkCj9",
        "outputId": "aea5fda5-a707-4518-ba45-51b5b7fb8c28"
      },
      "execution_count": 234,
      "outputs": [
        {
          "output_type": "execute_result",
          "data": {
            "text/plain": [
              "[[34, 45], 45, 34, 34, 'picon']"
            ]
          },
          "metadata": {},
          "execution_count": 234
        }
      ]
    },
    {
      "cell_type": "code",
      "source": [
        "l[3:0:-1]"
      ],
      "metadata": {
        "colab": {
          "base_uri": "https://localhost:8080/"
        },
        "id": "FE8yrk3kkHTo",
        "outputId": "6731fbd1-2ca0-46c8-a5af-6d42b2707eb4"
      },
      "execution_count": 236,
      "outputs": [
        {
          "output_type": "execute_result",
          "data": {
            "text/plain": [
              "[45, 34, 34]"
            ]
          },
          "metadata": {},
          "execution_count": 236
        }
      ]
    },
    {
      "cell_type": "code",
      "source": [
        "l[0:3:-1]"
      ],
      "metadata": {
        "colab": {
          "base_uri": "https://localhost:8080/"
        },
        "id": "kO6u76f3kLuv",
        "outputId": "d176e5ec-c48f-41d8-cc7f-9749a935213c"
      },
      "execution_count": 237,
      "outputs": [
        {
          "output_type": "execute_result",
          "data": {
            "text/plain": [
              "[]"
            ]
          },
          "metadata": {},
          "execution_count": 237
        }
      ]
    },
    {
      "cell_type": "code",
      "source": [
        "l[-1]"
      ],
      "metadata": {
        "colab": {
          "base_uri": "https://localhost:8080/"
        },
        "id": "EzDnTIz6kSKX",
        "outputId": "6e90d173-1f59-4952-ac64-8d8449b1c107"
      },
      "execution_count": 238,
      "outputs": [
        {
          "output_type": "execute_result",
          "data": {
            "text/plain": [
              "[34, 45]"
            ]
          },
          "metadata": {},
          "execution_count": 238
        }
      ]
    },
    {
      "cell_type": "code",
      "source": [
        "s=\"picon\"   #convert string to list for concatenate \n",
        "s=list(s)    #string+list can't be concatenate\n",
        "s"
      ],
      "metadata": {
        "colab": {
          "base_uri": "https://localhost:8080/"
        },
        "id": "nOhlRJ7zkaaN",
        "outputId": "21e8028e-3b74-45bc-b8c1-d9154504018a"
      },
      "execution_count": 245,
      "outputs": [
        {
          "output_type": "execute_result",
          "data": {
            "text/plain": [
              "['p', 'i', 'c', 'o', 'n']"
            ]
          },
          "metadata": {},
          "execution_count": 245
        }
      ]
    },
    {
      "cell_type": "code",
      "source": [
        "s=[\"picon\"] "
      ],
      "metadata": {
        "id": "nfK05L80luZ7"
      },
      "execution_count": 246,
      "outputs": []
    },
    {
      "cell_type": "code",
      "source": [
        "l+s "
      ],
      "metadata": {
        "colab": {
          "base_uri": "https://localhost:8080/"
        },
        "id": "pBWQ6_J4kclQ",
        "outputId": "184190dc-e0bb-448b-cf50-6aa418734213"
      },
      "execution_count": 247,
      "outputs": [
        {
          "output_type": "execute_result",
          "data": {
            "text/plain": [
              "['picon', 34, 34, 45, [34, 45], 'picon']"
            ]
          },
          "metadata": {},
          "execution_count": 247
        }
      ]
    },
    {
      "cell_type": "code",
      "source": [
        "l * 6  #repeat the data for 6 times"
      ],
      "metadata": {
        "colab": {
          "base_uri": "https://localhost:8080/"
        },
        "id": "20PqL9Urkd-U",
        "outputId": "efd732fd-5f82-472b-ca38-2e776c53b06b"
      },
      "execution_count": 248,
      "outputs": [
        {
          "output_type": "execute_result",
          "data": {
            "text/plain": [
              "['picon',\n",
              " 34,\n",
              " 34,\n",
              " 45,\n",
              " [34, 45],\n",
              " 'picon',\n",
              " 34,\n",
              " 34,\n",
              " 45,\n",
              " [34, 45],\n",
              " 'picon',\n",
              " 34,\n",
              " 34,\n",
              " 45,\n",
              " [34, 45],\n",
              " 'picon',\n",
              " 34,\n",
              " 34,\n",
              " 45,\n",
              " [34, 45],\n",
              " 'picon',\n",
              " 34,\n",
              " 34,\n",
              " 45,\n",
              " [34, 45],\n",
              " 'picon',\n",
              " 34,\n",
              " 34,\n",
              " 45,\n",
              " [34, 45]]"
            ]
          },
          "metadata": {},
          "execution_count": 248
        }
      ]
    },
    {
      "cell_type": "code",
      "source": [
        "len(l) #lenght of l"
      ],
      "metadata": {
        "colab": {
          "base_uri": "https://localhost:8080/"
        },
        "id": "39_9p-SJl3ug",
        "outputId": "cb62197d-1580-435e-dc69-f75e7f00bd08"
      },
      "execution_count": 249,
      "outputs": [
        {
          "output_type": "execute_result",
          "data": {
            "text/plain": [
              "5"
            ]
          },
          "metadata": {},
          "execution_count": 249
        }
      ]
    },
    {
      "cell_type": "code",
      "source": [
        "l"
      ],
      "metadata": {
        "colab": {
          "base_uri": "https://localhost:8080/"
        },
        "id": "NvB7Ba6MmBqd",
        "outputId": "164b8a51-eb53-43eb-8e1b-b32e8ae27a02"
      },
      "execution_count": 250,
      "outputs": [
        {
          "output_type": "execute_result",
          "data": {
            "text/plain": [
              "['picon', 34, 34, 45, [34, 45]]"
            ]
          },
          "metadata": {},
          "execution_count": 250
        }
      ]
    },
    {
      "cell_type": "code",
      "source": [
        "\"picon\" in l"
      ],
      "metadata": {
        "colab": {
          "base_uri": "https://localhost:8080/"
        },
        "id": "zuX_AahzmHSj",
        "outputId": "d2761b5c-9c6e-4124-b6c7-0f615e003c9f"
      },
      "execution_count": 251,
      "outputs": [
        {
          "output_type": "execute_result",
          "data": {
            "text/plain": [
              "True"
            ]
          },
          "metadata": {},
          "execution_count": 251
        }
      ]
    },
    {
      "cell_type": "code",
      "source": [
        "34 in l"
      ],
      "metadata": {
        "colab": {
          "base_uri": "https://localhost:8080/"
        },
        "id": "2wt9mhofmKO5",
        "outputId": "3a95f216-723b-4c56-ed5e-5f9b127b2ae4"
      },
      "execution_count": 252,
      "outputs": [
        {
          "output_type": "execute_result",
          "data": {
            "text/plain": [
              "True"
            ]
          },
          "metadata": {},
          "execution_count": 252
        }
      ]
    },
    {
      "cell_type": "code",
      "source": [
        "766 in l"
      ],
      "metadata": {
        "colab": {
          "base_uri": "https://localhost:8080/"
        },
        "id": "Z__xQn-SmRPc",
        "outputId": "209a2fce-1168-441b-825d-35d0bb8b2831"
      },
      "execution_count": 253,
      "outputs": [
        {
          "output_type": "execute_result",
          "data": {
            "text/plain": [
              "False"
            ]
          },
          "metadata": {},
          "execution_count": 253
        }
      ]
    },
    {
      "cell_type": "code",
      "source": [
        "s=\"picon\"  #pi is a sub string"
      ],
      "metadata": {
        "id": "H5pT2i0_mSnA"
      },
      "execution_count": 254,
      "outputs": []
    },
    {
      "cell_type": "code",
      "source": [
        ""
      ],
      "metadata": {
        "id": "1wuGzSEomweW"
      },
      "execution_count": null,
      "outputs": []
    }
  ],
  "metadata": {
    "colab": {
      "collapsed_sections": [],
      "name": "Copy of Welcome To Colaboratory",
      "toc_visible": true,
      "provenance": [],
      "include_colab_link": true
    },
    "kernelspec": {
      "display_name": "Python 3",
      "name": "python3"
    }
  },
  "nbformat": 4,
  "nbformat_minor": 0
}